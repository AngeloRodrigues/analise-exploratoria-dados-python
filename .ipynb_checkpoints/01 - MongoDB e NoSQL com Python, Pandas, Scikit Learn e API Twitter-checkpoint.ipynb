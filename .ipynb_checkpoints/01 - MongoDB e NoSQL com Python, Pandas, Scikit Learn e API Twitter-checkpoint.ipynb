{
 "cells": [
  {
   "cell_type": "markdown",
   "metadata": {},
   "source": [
    "# Python Fundamentos Para Análise de Dados - Data Science Academy"
   ]
  },
  {
   "cell_type": "markdown",
   "metadata": {},
   "source": [
    "### Victor Hugo Negrisoli"
   ]
  },
  {
   "cell_type": "markdown",
   "metadata": {},
   "source": [
    "### Manipulando Bancos de Dados NoSQL MongoDB com Python "
   ]
  },
  {
   "cell_type": "code",
   "execution_count": 2,
   "metadata": {},
   "outputs": [],
   "source": [
    "from pymongo import MongoClient"
   ]
  },
  {
   "cell_type": "code",
   "execution_count": 3,
   "metadata": {},
   "outputs": [],
   "source": [
    "conn = MongoClient('localhost', 27017)"
   ]
  },
  {
   "cell_type": "code",
   "execution_count": 4,
   "metadata": {},
   "outputs": [],
   "source": [
    "db = conn.cadastrodb"
   ]
  },
  {
   "cell_type": "code",
   "execution_count": 6,
   "metadata": {},
   "outputs": [
    {
     "data": {
      "text/plain": [
       "pymongo.mongo_client.MongoClient"
      ]
     },
     "execution_count": 6,
     "metadata": {},
     "output_type": "execute_result"
    }
   ],
   "source": [
    "type(conn)"
   ]
  },
  {
   "cell_type": "code",
   "execution_count": 9,
   "metadata": {},
   "outputs": [
    {
     "data": {
      "text/plain": [
       "Collection(Database(MongoClient(host=['localhost:27017'], document_class=dict, tz_aware=False, connect=True), 'cadastrodb'), 'cadastrodb')"
      ]
     },
     "execution_count": 9,
     "metadata": {},
     "output_type": "execute_result"
    }
   ],
   "source": [
    "collection = db.cadastrodb\n",
    "collection"
   ]
  },
  {
   "cell_type": "code",
   "execution_count": 10,
   "metadata": {},
   "outputs": [],
   "source": [
    "import datetime"
   ]
  },
  {
   "cell_type": "code",
   "execution_count": 11,
   "metadata": {},
   "outputs": [],
   "source": [
    "post1 = {\"codigo\": \"19818\", \"prod_nome\": \"Livro\", \"marcas\": [\"Panini\", \"DC\", \"Marvel\"], \"data_cadastro\": datetime.datetime.utcnow()}"
   ]
  },
  {
   "cell_type": "code",
   "execution_count": 13,
   "metadata": {},
   "outputs": [
    {
     "data": {
      "text/plain": [
       "dict"
      ]
     },
     "execution_count": 13,
     "metadata": {},
     "output_type": "execute_result"
    }
   ],
   "source": [
    "type(post1)"
   ]
  },
  {
   "cell_type": "code",
   "execution_count": 14,
   "metadata": {},
   "outputs": [],
   "source": [
    "collection = db.posts"
   ]
  },
  {
   "cell_type": "code",
   "execution_count": 15,
   "metadata": {},
   "outputs": [],
   "source": [
    "post_id = collection.insert_one(post1)"
   ]
  },
  {
   "cell_type": "code",
   "execution_count": 16,
   "metadata": {},
   "outputs": [
    {
     "data": {
      "text/plain": [
       "<pymongo.results.InsertOneResult at 0x1ba6820f388>"
      ]
     },
     "execution_count": 16,
     "metadata": {},
     "output_type": "execute_result"
    }
   ],
   "source": [
    "post_id"
   ]
  },
  {
   "cell_type": "code",
   "execution_count": 17,
   "metadata": {},
   "outputs": [
    {
     "data": {
      "text/plain": [
       "{'_id': ObjectId('5e1ceddb6be78d8673599d03'),\n",
       " 'codigo': '19818',\n",
       " 'prod_nome': 'Livro',\n",
       " 'marcas': ['Panini', 'DC', 'Marvel'],\n",
       " 'data_cadastro': datetime.datetime(2020, 1, 13, 22, 22, 45, 707000)}"
      ]
     },
     "execution_count": 17,
     "metadata": {},
     "output_type": "execute_result"
    }
   ],
   "source": [
    "collection.find_one({\"prod_nome\": \"Livro\"})"
   ]
  },
  {
   "cell_type": "code",
   "execution_count": 19,
   "metadata": {},
   "outputs": [
    {
     "data": {
      "text/plain": [
       "<pymongo.results.InsertOneResult at 0x1ba6a54e4c8>"
      ]
     },
     "execution_count": 19,
     "metadata": {},
     "output_type": "execute_result"
    }
   ],
   "source": [
    "post2 = {\"codigo\": \"196516\", \"prod_nome\": \"Quadrinhos\", \"marcas\": [\"Vertigo\", \"Marvel\"], \"data_cadastro\": datetime.datetime.utcnow()}\n",
    "collection.insert_one(post2)"
   ]
  },
  {
   "cell_type": "code",
   "execution_count": 20,
   "metadata": {},
   "outputs": [
    {
     "name": "stdout",
     "output_type": "stream",
     "text": [
      "{'_id': ObjectId('5e1ceddb6be78d8673599d03'), 'codigo': '19818', 'prod_nome': 'Livro', 'marcas': ['Panini', 'DC', 'Marvel'], 'data_cadastro': datetime.datetime(2020, 1, 13, 22, 22, 45, 707000)}\n",
      "{'_id': ObjectId('5e1ceeb66be78d8673599d04'), 'codigo': '196516', 'prod_nome': 'Quadrinhos', 'marcas': ['Vertigo', 'Marvel'], 'data_cadastro': datetime.datetime(2020, 1, 13, 22, 27, 2, 950000)}\n"
     ]
    }
   ],
   "source": [
    "for i in collection.find():\n",
    "    print(i)"
   ]
  },
  {
   "cell_type": "code",
   "execution_count": 22,
   "metadata": {},
   "outputs": [
    {
     "data": {
      "text/plain": [
       "'cadastrodb'"
      ]
     },
     "execution_count": 22,
     "metadata": {},
     "output_type": "execute_result"
    }
   ],
   "source": [
    "db.name"
   ]
  },
  {
   "cell_type": "code",
   "execution_count": 25,
   "metadata": {},
   "outputs": [
    {
     "data": {
      "text/plain": [
       "['posts']"
      ]
     },
     "execution_count": 25,
     "metadata": {},
     "output_type": "execute_result"
    }
   ],
   "source": [
    "db.list_collection_names()"
   ]
  },
  {
   "cell_type": "code",
   "execution_count": 26,
   "metadata": {},
   "outputs": [],
   "source": [
    "import pymongo"
   ]
  },
  {
   "cell_type": "code",
   "execution_count": 27,
   "metadata": {},
   "outputs": [],
   "source": [
    "client_con = pymongo.MongoClient()"
   ]
  },
  {
   "cell_type": "code",
   "execution_count": 29,
   "metadata": {},
   "outputs": [
    {
     "data": {
      "text/plain": [
       "['admin', 'cadastrodb', 'config', 'local']"
      ]
     },
     "execution_count": 29,
     "metadata": {},
     "output_type": "execute_result"
    }
   ],
   "source": [
    "client_con.list_database_names()"
   ]
  },
  {
   "cell_type": "code",
   "execution_count": 30,
   "metadata": {},
   "outputs": [],
   "source": [
    "db.create_collection(\"mycollection\")"
   ]
  },
  {
   "cell_type": "code",
   "execution_count": 36,
   "metadata": {},
   "outputs": [
    {
     "data": {
      "text/plain": [
       "<pymongo.results.InsertOneResult at 0x1ba6c530748>"
      ]
     },
     "execution_count": 36,
     "metadata": {},
     "output_type": "execute_result"
    }
   ],
   "source": [
    "db.mycollection.insert_one({\"titulo\":\"Superman O Legado das Estrelas\", \n",
    "                            \"descricao\":\"Clássico\", \n",
    "                            \"editora\": [\"Panini\", \"DC Comics\"]})"
   ]
  },
  {
   "cell_type": "code",
   "execution_count": 37,
   "metadata": {},
   "outputs": [
    {
     "data": {
      "text/plain": [
       "{'_id': ObjectId('5e1cf0026be78d8673599d06'),\n",
       " 'titulo': 'Superman O Legado das Estrelas',\n",
       " 'descricao': 'Clássico',\n",
       " 'editora': ['Panini', 'DC Comics']}"
      ]
     },
     "execution_count": 37,
     "metadata": {},
     "output_type": "execute_result"
    }
   ],
   "source": [
    "db.mycollection.find_one()"
   ]
  },
  {
   "cell_type": "code",
   "execution_count": 38,
   "metadata": {},
   "outputs": [
    {
     "name": "stdout",
     "output_type": "stream",
     "text": [
      "{'_id': ObjectId('5e1cf0026be78d8673599d06'), 'titulo': 'Superman O Legado das Estrelas', 'descricao': 'Clássico', 'editora': ['Panini', 'DC Comics']}\n",
      "{'_id': ObjectId('5e1cf0556be78d8673599d07'), 'titulo': 'Superman O Legado das Estrelas', 'descricao': 'Clássico', 'editora': ['Panini', 'DC Comics']}\n"
     ]
    }
   ],
   "source": [
    "dados = db.mycollection\n",
    "for item in dados.find():\n",
    "    print(item)"
   ]
  },
  {
   "cell_type": "code",
   "execution_count": 40,
   "metadata": {},
   "outputs": [
    {
     "data": {
      "text/plain": [
       "2"
      ]
     },
     "execution_count": 40,
     "metadata": {},
     "output_type": "execute_result"
    }
   ],
   "source": [
    "colecao = db[\"mycollection\"]\n",
    "colecao.estimated_document_count()"
   ]
  },
  {
   "cell_type": "markdown",
   "metadata": {},
   "source": [
    "## Projeto - Extração / Stream de Dados com API do Twitter"
   ]
  },
  {
   "cell_type": "markdown",
   "metadata": {},
   "source": [
    "### 01 - Criando conexão de autentitcação OAuth com a API do Twitter"
   ]
  },
  {
   "cell_type": "code",
   "execution_count": 234,
   "metadata": {},
   "outputs": [],
   "source": [
    "from tweepy.streaming import StreamListener\n",
    "from tweepy import OAuthHandler\n",
    "from tweepy import Stream\n",
    "from datetime import datetime\n",
    "import json"
   ]
  },
  {
   "cell_type": "code",
   "execution_count": 235,
   "metadata": {},
   "outputs": [],
   "source": [
    "consumer_key = \"CS9jTBcuZoY8jLhB9beiYbyB0\"\n",
    "consumer_secret = \"68LihL1qOdT1xbwBbvemSw7R5gZLW3HExALBqccXCJykUbyJ21\"\n",
    "access_token = \"749755566701043712-pPvXYhjdUHTKlEFnxpRTgqrJMIfWeN1\"\n",
    "access_secret = \"0DRG5Ct4gqbPAuu2sJcNr5Fi5zEnlZcEJAPalntTWfS90\""
   ]
  },
  {
   "cell_type": "code",
   "execution_count": 249,
   "metadata": {},
   "outputs": [],
   "source": [
    "auth = OAuthHandler(consumer_key, consumer_secret)"
   ]
  },
  {
   "cell_type": "code",
   "execution_count": 250,
   "metadata": {},
   "outputs": [],
   "source": [
    "auth.set_access_token(access_token, access_secret)"
   ]
  },
  {
   "cell_type": "code",
   "execution_count": 251,
   "metadata": {},
   "outputs": [],
   "source": [
    "class MyListener(StreamListener):\n",
    "    def on_data(self, dados):\n",
    "        tweet = json.loads(dados)\n",
    "        created_at = tweet[\"created_at\"]\n",
    "        id_str = tweet[\"id_str\"]\n",
    "        text = tweet[\"text\"]\n",
    "        obj = {\"created_at\": created_at, \"id_str\": id_str, \"text\": text}\n",
    "        tweetind = colecao.insert_one(obj).inserted_id\n",
    "        print(obj)\n",
    "        return True"
   ]
  },
  {
   "cell_type": "code",
   "execution_count": 252,
   "metadata": {},
   "outputs": [],
   "source": [
    "mylistener = MyListener()"
   ]
  },
  {
   "cell_type": "code",
   "execution_count": 260,
   "metadata": {},
   "outputs": [],
   "source": [
    "mystream = Stream(auth = auth, listener = mylistener)"
   ]
  },
  {
   "cell_type": "markdown",
   "metadata": {},
   "source": [
    "### 02 - Definindo o banco de dados com o MongoDB para armazenar os Tweets"
   ]
  },
  {
   "cell_type": "code",
   "execution_count": 241,
   "metadata": {},
   "outputs": [],
   "source": [
    "from pymongo import MongoClient"
   ]
  },
  {
   "cell_type": "code",
   "execution_count": 242,
   "metadata": {},
   "outputs": [],
   "source": [
    "client = MongoClient()"
   ]
  },
  {
   "cell_type": "code",
   "execution_count": 243,
   "metadata": {},
   "outputs": [],
   "source": [
    "db = client.twitterdb"
   ]
  },
  {
   "cell_type": "code",
   "execution_count": 244,
   "metadata": {},
   "outputs": [],
   "source": [
    "colecao = db.tweets"
   ]
  },
  {
   "cell_type": "code",
   "execution_count": 261,
   "metadata": {},
   "outputs": [],
   "source": [
    "palavras_chave = [\"Data Science\", \"Java\", \"Javascript\", \"Spring Boot\", \"Nodejs\", \"Node.js\", \"ReactJs\", \"Programming\", \"Data Analysis\", \"Análise de Dados\", \"Big Data\", \"Business Intelligence\"]"
   ]
  },
  {
   "cell_type": "markdown",
   "metadata": {},
   "source": [
    "### 03 - Criando a stream com o Twitter usando como track a lista de palavras-chave"
   ]
  },
  {
   "cell_type": "code",
   "execution_count": 262,
   "metadata": {},
   "outputs": [
    {
     "name": "stdout",
     "output_type": "stream",
     "text": [
      "{'created_at': 'Tue Jan 14 00:16:33 +0000 2020', 'id_str': '1216876719631556608', 'text': 'RT @CatalogueBack: We interrupt our regular programming of pop culture and anime discussion posts to bring you @Cancelathon something fun I…', '_id': ObjectId('5e1d08656be78d8673599e23')}\n",
      "{'created_at': 'Tue Jan 14 00:16:35 +0000 2020', 'id_str': '1216876728389292032', 'text': 'RT @NomadXrp: ⏰  PRICE UPDATE  🚀 \\n\\n⭐️ $XRP $ 0.2132\\n24h -0.56% 📉\\n\\n⭐️ $BTC $ 8128.82\\n24h -0.60% 📉\\n\\n⭐️ $ETH $ 143.88\\n24h -1.67% 📉\\n\\n$xrp #thes…', '_id': ObjectId('5e1d08676be78d8673599e24')}\n",
      "{'created_at': 'Tue Jan 14 00:16:36 +0000 2020', 'id_str': '1216876733929938944', 'text': 'BIG KETS ARE STILL KETS 😻😻😻😻', '_id': ObjectId('5e1d08686be78d8673599e25')}\n",
      "{'created_at': 'Tue Jan 14 00:16:38 +0000 2020', 'id_str': '1216876741496582144', 'text': '[Cheat Sheet] Python Basics For Data Science https://t.co/LuZxXxs1dK', '_id': ObjectId('5e1d086a6be78d8673599e26')}\n",
      "{'created_at': 'Tue Jan 14 00:16:39 +0000 2020', 'id_str': '1216876745992871936', 'text': 'RT @Justin_Stolpe: Happy Monday! Learning about the Instagram Graph API this week! What are you learning about?\\n.\\n.\\n#instagram #instagramap…', '_id': ObjectId('5e1d086b6be78d8673599e27')}\n",
      "{'created_at': 'Tue Jan 14 00:16:39 +0000 2020', 'id_str': '1216876748182257664', 'text': 'RT @davarcar1: @Jhonitrejos @JorgeIvanOspina @lunadavid @kevingomezpaz @SergioMZamoraB @lftroyano Para que sea ciudad inteligente de pasar…', '_id': ObjectId('5e1d086c6be78d8673599e28')}\n",
      "{'created_at': 'Tue Jan 14 00:16:47 +0000 2020', 'id_str': '1216876781480878080', 'text': '\"They are typically very experienced, having worked on many different projects under a wide variety of circumstance… https://t.co/mWRTfNnRmX', '_id': ObjectId('5e1d08746be78d8673599e29')}\n",
      "{'created_at': 'Tue Jan 14 00:16:51 +0000 2020', 'id_str': '1216876795745751041', 'text': '@iceagereentry @rcsteeb Don’t worry, all is well. 😉 https://t.co/5jxh8gXtTk', '_id': ObjectId('5e1d08776be78d8673599e2a')}\n",
      "{'created_at': 'Tue Jan 14 00:16:51 +0000 2020', 'id_str': '1216876798199451648', 'text': 'It \"amazes\" ME how an \"influencer\"  like @MarkDice hasn\\'t TOUCHED UPON the \"blatant\" SYMBOLISM being shown on… https://t.co/WhB32QifGF', '_id': ObjectId('5e1d08786be78d8673599e2b')}\n",
      "{'created_at': 'Tue Jan 14 00:16:54 +0000 2020', 'id_str': '1216876808173432832', 'text': 'RT @neilonsoftware: \"They are typically very experienced, having worked on many different projects under a wide variety of circumstances.\"…', '_id': ObjectId('5e1d087a6be78d8673599e2c')}\n",
      "{'created_at': 'Tue Jan 14 00:16:55 +0000 2020', 'id_str': '1216876811906207745', 'text': 'RT @HawkinsTammy: Know #javascript and looking for a new gig in #California? #Blizzard Entertainment is looking for an Associate Software W…', '_id': ObjectId('5e1d087b6be78d8673599e2d')}\n",
      "{'created_at': 'Tue Jan 14 00:16:55 +0000 2020', 'id_str': '1216876814187909124', 'text': 'Coffee and code. NodeJs tutorial. Then I will do some ReactJs tutorials.\\n\\nChristmas cat mug FTW! https://t.co/8ATWXMVAqV', '_id': ObjectId('5e1d087c6be78d8673599e2e')}\n",
      "{'created_at': 'Tue Jan 14 00:17:00 +0000 2020', 'id_str': '1216876836195618817', 'text': 'RT @neilonsoftware: \"They are typically very experienced, having worked on many different projects under a wide variety of circumstances.\"…', '_id': ObjectId('5e1d08816be78d8673599e2f')}\n",
      "{'created_at': 'Tue Jan 14 00:17:01 +0000 2020', 'id_str': '1216876837185511424', 'text': \"📚 Wiley's Professional JavaScript for Web Developers is an essential guide to next-level ES6 and ES7 JavaScript dev… https://t.co/uyZB7AJ0en\", '_id': ObjectId('5e1d08816be78d8673599e30')}\n",
      "{'created_at': 'Tue Jan 14 00:17:05 +0000 2020', 'id_str': '1216876855405490176', 'text': 'With a few commands I can upgrade: sysinternals notepadplusplus googlechrome 7zip firefox SQLSentryPlanExplorer  vi… https://t.co/JkfFZEZPyB', '_id': ObjectId('5e1d08856be78d8673599e31')}\n",
      "{'created_at': 'Tue Jan 14 00:17:07 +0000 2020', 'id_str': '1216876864192569345', 'text': 'New #job: Senior Fullstack Dev - JAVA and API Location: Wellington Central .. https://t.co/R8zY2oD9w6 #jobs #hiring', '_id': ObjectId('5e1d08876be78d8673599e32')}\n",
      "{'created_at': 'Tue Jan 14 00:17:08 +0000 2020', 'id_str': '1216876866948255745', 'text': 'Feature request: add `base16` default themes, the next evolution of `Tomorrow` themes https://t.co/e99xcYh1aL… https://t.co/ShFLk4a0mj', '_id': ObjectId('5e1d08886be78d8673599e33')}\n",
      "{'created_at': 'Tue Jan 14 00:17:11 +0000 2020', 'id_str': '1216876880080637953', 'text': 'insert baby yoda picture with caption \\n\\n“big kitties”', '_id': ObjectId('5e1d088b6be78d8673599e34')}\n",
      "{'created_at': 'Tue Jan 14 00:17:14 +0000 2020', 'id_str': '1216876894664232961', 'text': 'RT @IsTheArchitect: Why #Python is better than #R for #DataScience careers.\\n\\nhttps://t.co/cyTiSBpV4P\\n#dataengineering #bigdata', '_id': ObjectId('5e1d088f6be78d8673599e35')}\n",
      "{'created_at': 'Tue Jan 14 00:17:17 +0000 2020', 'id_str': '1216876905573634054', 'text': 'RT @thegrugq: Alternative take: knowing Haskell will get you a job delivering pizza, but JavaScript will get you a job at the big 5 https:/…', '_id': ObjectId('5e1d08916be78d8673599e36')}\n",
      "{'created_at': 'Tue Jan 14 00:17:20 +0000 2020', 'id_str': '1216876917439238144', 'text': 'RT @Brilliance100: We handle:\\n\\nStatistics online classes\\nPrecalculus\\nAlgebra\\nTrigonometry\\nLinear programming\\nMeasurements\\nData analysis\\nSPS…', '_id': ObjectId('5e1d08946be78d8673599e37')}\n",
      "{'created_at': 'Tue Jan 14 00:17:21 +0000 2020', 'id_str': '1216876924657717248', 'text': 'RT @AlRokerEnt: \"We are proud to debut this African American focused channel, created by and for the members of the black community.\" - Jam…', '_id': ObjectId('5e1d08966be78d8673599e38')}\n",
      "{'created_at': 'Tue Jan 14 00:17:22 +0000 2020', 'id_str': '1216876926750613505', 'text': 'RT @nep_developer: Day: 08 of #100DaysOfCode \\n-Pause the Tracker App(for a week)\\n-Started a new project Planner that used firebase,\\n\\n------…', '_id': ObjectId('5e1d08966be78d8673599e39')}\n",
      "{'created_at': 'Tue Jan 14 00:17:23 +0000 2020', 'id_str': '1216876930668036097', 'text': \"RT @shog9: Well... I suddenly find myself in need of work. \\nIf anyone's hiring: C++, JavaScript, C#, SQL + solid background in social softw…\", '_id': ObjectId('5e1d08976be78d8673599e3a')}\n",
      "{'created_at': 'Tue Jan 14 00:17:25 +0000 2020', 'id_str': '1216876940537126912', 'text': 'RT @brunoborges: For all maintainers of #Java frameworks and libraries, ping @ashleymcnamara and share your story.\\n\\n// @jtgreene @phillip_w…', '_id': ObjectId('5e1d089a6be78d8673599e3b')}\n",
      "{'created_at': 'Tue Jan 14 00:17:28 +0000 2020', 'id_str': '1216876949949308928', 'text': '¡El último Cience, Technology &amp; Programming  Daily! https://t.co/LTH701EPUt Gracias a @CTcard44 @schoolprobIems… https://t.co/CVFHa0My36', '_id': ObjectId('5e1d089c6be78d8673599e3c')}\n",
      "{'created_at': 'Tue Jan 14 00:17:29 +0000 2020', 'id_str': '1216876954869256195', 'text': 'New #job: Business Intelligence Analyst Location: Las Vegas .. https://t.co/jXAS0kPEL6 #jobs #hiring', '_id': ObjectId('5e1d089d6be78d8673599e3d')}\n",
      "{'created_at': 'Tue Jan 14 00:17:32 +0000 2020', 'id_str': '1216876967628353536', 'text': 'RT @DD_FaFa_: Data Science from Scratch: Comprehensive guide with essential principles of Data Science https://t.co/xgdtkXevAm #DataScience', '_id': ObjectId('5e1d08a06be78d8673599e3e')}\n",
      "{'created_at': 'Tue Jan 14 00:17:34 +0000 2020', 'id_str': '1216876976943828993', 'text': 'RT @motherofnodejs: I am not lazy, I just save energy 😑 #programming #coding #programmer #javascript #coder #php #java #programminglife #de…', '_id': ObjectId('5e1d08a26be78d8673599e3f')}\n",
      "{'created_at': 'Tue Jan 14 00:17:34 +0000 2020', 'id_str': '1216876979254956033', 'text': 'RT @thegrugq: Alternative take: knowing Haskell will get you a job delivering pizza, but JavaScript will get you a job at the big 5', '_id': ObjectId('5e1d08a36be78d8673599e40')}\n",
      "{'created_at': 'Tue Jan 14 00:17:35 +0000 2020', 'id_str': '1216876980294967296', 'text': 'FREE Webinar: Tuesday, 21 January 2020, 9 am EST for a review of #compositional #analysis by Handheld #XRF, along w… https://t.co/FvRX3YQDeB', '_id': ObjectId('5e1d08a36be78d8673599e41')}\n"
     ]
    },
    {
     "name": "stdout",
     "output_type": "stream",
     "text": [
      "{'created_at': 'Tue Jan 14 00:17:35 +0000 2020', 'id_str': '1216876982564278272', 'text': 'RT @neilonsoftware: \"They are typically very experienced, having worked on many different projects under a wide variety of circumstances.\"…', '_id': ObjectId('5e1d08a46be78d8673599e42')}\n",
      "{'created_at': 'Tue Jan 14 00:17:36 +0000 2020', 'id_str': '1216876984887906304', 'text': 'RT @susanhash: Leverage #CustomerData to identify opportunities for #proactive #custserv - Jon Christiansen of data science firm Ins &amp; Outs…', '_id': ObjectId('5e1d08a46be78d8673599e43')}\n",
      "{'created_at': 'Tue Jan 14 00:17:36 +0000 2020', 'id_str': '1216876985009373184', 'text': 'RT @thegrugq: Alternative take: knowing Haskell will get you a job delivering pizza, but JavaScript will get you a job at the big 5 https:/…', '_id': ObjectId('5e1d08a46be78d8673599e44')}\n",
      "{'created_at': 'Tue Jan 14 00:17:36 +0000 2020', 'id_str': '1216876985126776832', 'text': \"RT @h_ingo: TIL there's a Java version for one of the greatest performance diagnostics tools ever, PoorMansProfiler.\", '_id': ObjectId('5e1d08a46be78d8673599e45')}\n",
      "{'created_at': 'Tue Jan 14 00:17:36 +0000 2020', 'id_str': '1216876985487523840', 'text': 'RT @lakwatsarah: BIG KETS ARE STILL KETS 😻😻😻😻', '_id': ObjectId('5e1d08a46be78d8673599e46')}\n",
      "{'created_at': 'Tue Jan 14 00:17:38 +0000 2020', 'id_str': '1216876994060619776', 'text': 'RT @PriscillaWT: The grandson of House Democratic Whip James Clyburn, D-S.C., has cut a radio ad invoking his grandfather’s legacy and call…', '_id': ObjectId('5e1d08a66be78d8673599e47')}\n",
      "{'created_at': 'Tue Jan 14 00:17:40 +0000 2020', 'id_str': '1216877002256539649', 'text': 'RT @ActionableInsi3: [Cheat Sheet] Python Basics For Data Science https://t.co/LuZxXxs1dK', '_id': ObjectId('5e1d08a86be78d8673599e48')}\n",
      "{'created_at': 'Tue Jan 14 00:17:40 +0000 2020', 'id_str': '1216877003585884160', 'text': \"RT @chey_cobb: Soooo... \\nWhat's scarier?\\n* Foreign intelligence agencies listening in on you?\\n* Domestic intelligence agencies listening in…\", '_id': ObjectId('5e1d08a96be78d8673599e49')}\n",
      "{'created_at': 'Tue Jan 14 00:17:41 +0000 2020', 'id_str': '1216877008199856130', 'text': 'I want nothing more than to hug a mf lion. Look at how cute and cuddly this big fluffs are!!!! I can’t handle it 😍😍', '_id': ObjectId('5e1d08aa6be78d8673599e4a')}\n",
      "{'created_at': 'Tue Jan 14 00:17:42 +0000 2020', 'id_str': '1216877009193906178', 'text': '☀ Hiring: #Big Data Engineer\\n#AI #Analyst #BigData #Developer #Plano #techjobs #devjobs\\nApply Now &gt;&gt;… https://t.co/f67B6uP1sU', '_id': ObjectId('5e1d08aa6be78d8673599e4b')}\n",
      "{'created_at': 'Tue Jan 14 00:17:42 +0000 2020', 'id_str': '1216877012012486659', 'text': 'RT @pdakean: Original study that found relation was retracted for data manipulation. The relation was never there but now epidemics are com…', '_id': ObjectId('5e1d08ab6be78d8673599e4c')}\n",
      "{'created_at': 'Tue Jan 14 00:17:46 +0000 2020', 'id_str': '1216877026864484353', 'text': '@PoetWalker We need an independent revival, like French New Wave, maybe. Films not involving enormous corporations… https://t.co/9PUgw6EdsE', '_id': ObjectId('5e1d08ae6be78d8673599e4d')}\n",
      "{'created_at': 'Tue Jan 14 00:17:48 +0000 2020', 'id_str': '1216877036414914561', 'text': '@EFL_law @KingMeren You are right - in theory this should not be that big of a deal. But you are giving the team mo… https://t.co/Cwn6ojUhX4', '_id': ObjectId('5e1d08b06be78d8673599e4e')}\n",
      "{'created_at': 'Tue Jan 14 00:17:49 +0000 2020', 'id_str': '1216877038528868353', 'text': 'Practical Data Science with Hadoop and Spark: Designing and Building Effective Analytics at Scale (Addison-wesley D… https://t.co/zDsJpGTSoI', '_id': ObjectId('5e1d08b16be78d8673599e4f')}\n",
      "{'created_at': 'Tue Jan 14 00:17:50 +0000 2020', 'id_str': '1216877044623081477', 'text': 'RT @MikelJoachim: Starting a “methods journal club” with grad students &amp; post-docs in @UWBadgerAP to discuss data organization, study desig…', '_id': ObjectId('5e1d08b26be78d8673599e50')}\n",
      "{'created_at': 'Tue Jan 14 00:17:50 +0000 2020', 'id_str': '1216877046351220736', 'text': 'RT @nep_developer: Day: 08 of #100DaysOfCode \\n-Pause the Tracker App(for a week)\\n-Started a new project Planner that used firebase,\\n\\n------…', '_id': ObjectId('5e1d08b36be78d8673599e51')}\n",
      "{'created_at': 'Tue Jan 14 00:17:54 +0000 2020', 'id_str': '1216877059789742080', 'text': 'RT @NoContextVinny: And we return to your regular programming. https://t.co/N9bbwoYtkp', '_id': ObjectId('5e1d08b66be78d8673599e52')}\n",
      "{'created_at': 'Tue Jan 14 00:17:54 +0000 2020', 'id_str': '1216877061152878598', 'text': 'Current standard of discourse on the net: \"I know nothing I write here will change your mind, because you are alrea… https://t.co/OMa09Z0Gz6', '_id': ObjectId('5e1d08b66be78d8673599e53')}\n",
      "{'created_at': 'Tue Jan 14 00:17:55 +0000 2020', 'id_str': '1216877065481252867', 'text': 'RT @thegrugq: Alternative take: knowing Haskell will get you a job delivering pizza, but JavaScript will get you a job at the big 5', '_id': ObjectId('5e1d08b76be78d8673599e54')}\n",
      "{'created_at': 'Tue Jan 14 00:17:56 +0000 2020', 'id_str': '1216877070594211840', 'text': 'RT @neilonsoftware: \"They are typically very experienced, having worked on many different projects under a wide variety of circumstances.\"…', '_id': ObjectId('5e1d08b96be78d8673599e55')}\n",
      "{'created_at': 'Tue Jan 14 00:17:56 +0000 2020', 'id_str': '1216877071177342979', 'text': 'actual footage of me because i have to TA  programming classes tomorrow for a total of 4 hours', '_id': ObjectId('5e1d08b96be78d8673599e56')}\n",
      "{'created_at': 'Tue Jan 14 00:18:01 +0000 2020', 'id_str': '1216877088730439680', 'text': 'Take part in the #SPIE Career Summit, our professional development programming at #PhotonicsWest 2020! \\n\\nCheck out… https://t.co/L1ej80GLtq', '_id': ObjectId('5e1d08bd6be78d8673599e57')}\n",
      "{'created_at': 'Tue Jan 14 00:17:58 +0000 2020', 'id_str': '1216877076021534720', 'text': '@Mandoline_Blue Those energies, hard coded into our genetic programming, can (not always) find a twisted way out if… https://t.co/TLAJEnJc6h', '_id': ObjectId('5e1d08be6be78d8673599e58')}\n",
      "{'created_at': 'Tue Jan 14 00:18:02 +0000 2020', 'id_str': '1216877095667716096', 'text': 'もう火曜日。\\nImperative  programming vs. Declarative :\\n命令型プログラミング vs. 宣言型プログラミング', '_id': ObjectId('5e1d08be6be78d8673599e59')}\n",
      "{'created_at': 'Tue Jan 14 00:18:02 +0000 2020', 'id_str': '1216877096472940544', 'text': 'Itu csy kalo suatu saat nongol di Java Jazz, gue ga heran', '_id': ObjectId('5e1d08bf6be78d8673599e5a')}\n",
      "{'created_at': 'Tue Jan 14 00:18:03 +0000 2020', 'id_str': '1216877099937603584', 'text': 'Medical identity theft can leave you with big bills for procedures, treatment and equipment you never asked for or… https://t.co/hikhwEFoPo', '_id': ObjectId('5e1d08c06be78d8673599e5b')}\n",
      "{'created_at': 'Tue Jan 14 00:18:06 +0000 2020', 'id_str': '1216877109865537537', 'text': '[Feature] Babel plugin: Add import URL version tag https://t.co/uObz0wNfua #github #JavaScript #TypeScript #CSS #HTML', '_id': ObjectId('5e1d08c26be78d8673599e5c')}\n",
      "{'created_at': 'Tue Jan 14 00:18:03 +0000 2020', 'id_str': '1216877097899130880', 'text': 'There are many ways to profit off your health data, which leaves you with a big and sometimes life-threatening mess… https://t.co/nMhkQ793oe', '_id': ObjectId('5e1d08c26be78d8673599e5d')}\n",
      "{'created_at': 'Tue Jan 14 00:18:07 +0000 2020', 'id_str': '1216877114709946369', 'text': 'RT @javascriptflx: 30 Free Resources To Help You Learn JavaScript Fundamentals https://t.co/W1C5eXVUkp  #Javascript', '_id': ObjectId('5e1d08c36be78d8673599e5e')}\n",
      "{'created_at': 'Tue Jan 14 00:18:07 +0000 2020', 'id_str': '1216877116308033536', 'text': \"Sr DevOps Developer - perm/downtown Toronto - Java/Python/Ruby or C req'd - build software to improve build/release… https://t.co/3qmpVgWt9Q\", '_id': ObjectId('5e1d08c36be78d8673599e5f')}\n",
      "{'created_at': 'Tue Jan 14 00:18:17 +0000 2020', 'id_str': '1216877157114437632', 'text': 'Malicious JavaScript package was only active on the npm repository for two weeks. Microsoft spots malicious npm pac… https://t.co/hZHWiiadOh', '_id': ObjectId('5e1d08cd6be78d8673599e60')}\n",
      "{'created_at': 'Tue Jan 14 00:18:19 +0000 2020', 'id_str': '1216877166555627520', 'text': 'RT @SevenHillsUlti: We are submitting bids for YCC this summer! For more details or answers to some questions, check out our website: https…', '_id': ObjectId('5e1d08cf6be78d8673599e61')}\n"
     ]
    },
    {
     "name": "stdout",
     "output_type": "stream",
     "text": [
      "{'created_at': 'Tue Jan 14 00:18:21 +0000 2020', 'id_str': '1216877175460200448', 'text': \"RT @juddy_96: Let me put Japan's situation in smash terms. Smash 4 Shulk. Hey he has all this great stuff. Let's give him shit frame data.…\", '_id': ObjectId('5e1d08d26be78d8673599e62')}\n",
      "{'created_at': 'Tue Jan 14 00:18:22 +0000 2020', 'id_str': '1216877177062481920', 'text': 'RT @BenjySarlin: A realistic scenario right now:\\n\\n-Trump WH asks courts to end protections for pre-existing conditions\\n\\n-Trump re-elected w…', '_id': ObjectId('5e1d08d26be78d8673599e63')}\n",
      "{'created_at': 'Tue Jan 14 00:18:22 +0000 2020', 'id_str': '1216877178580803584', 'text': \"RT @Brilliance100: We'll give you A's in your classes. Pay us for\\n#essay\\n#homework\\n#assignment\\n#discussion\\n#code Java PHP C#\\n#Programming p…\", '_id': ObjectId('5e1d08d26be78d8673599e64')}\n",
      "{'created_at': 'Tue Jan 14 00:18:22 +0000 2020', 'id_str': '1216877179658698752', 'text': 'RT @sicsuper: ¡Proteger tus datos personales es muy importante!\\nEncuentra las recomendaciones que Big Data y la #SICSuper te dejamos aquí 👉…', '_id': ObjectId('5e1d08d36be78d8673599e65')}\n",
      "{'created_at': 'Tue Jan 14 00:18:25 +0000 2020', 'id_str': '1216877192744849408', 'text': 'We back to regular programming boiiiis', '_id': ObjectId('5e1d08d66be78d8673599e66')}\n",
      "{'created_at': 'Tue Jan 14 00:18:27 +0000 2020', 'id_str': '1216877200940683265', 'text': \"RT @Cawfree: Here's the Boston Housing dataset for training #regression networks in #tensorflow #NeuralNetworks in #javascript.\\n\\nhttps://t.…\", '_id': ObjectId('5e1d08d86be78d8673599e67')}\n",
      "{'created_at': 'Tue Jan 14 00:18:28 +0000 2020', 'id_str': '1216877205730426881', 'text': 'RT @nytimesworld: “There aren’t that many things that are quintessentially Canadian, but skating is one of them,” said a university profess…', '_id': ObjectId('5e1d08d96be78d8673599e68')}\n",
      "{'created_at': 'Tue Jan 14 00:18:34 +0000 2020', 'id_str': '1216877226819489792', 'text': 'What to Pay #JavaScript #Developers in 2020 via https://t.co/prqxSCAEJ8 https://t.co/3nNlRg8PQK', '_id': ObjectId('5e1d08de6be78d8673599e69')}\n",
      "{'created_at': 'Tue Jan 14 00:18:35 +0000 2020', 'id_str': '1216877233584865281', 'text': '@msRachel9 As soon as we have programming news we’ll announce it here 😘', '_id': ObjectId('5e1d08df6be78d8673599e6a')}\n",
      "{'created_at': 'Tue Jan 14 00:18:39 +0000 2020', 'id_str': '1216877249686855680', 'text': \"My father just discovered that Steven Seagal was a real cop. Well he discovered Steven Seagal Law Man.\\n\\nThat's what… https://t.co/B1BMeIi25n\", '_id': ObjectId('5e1d08e36be78d8673599e6b')}\n",
      "{'created_at': 'Tue Jan 14 00:18:42 +0000 2020', 'id_str': '1216877261749735424', 'text': 'RT @RiverVanRain: What to Pay #JavaScript #Developers in 2020 via https://t.co/prqxSCAEJ8 https://t.co/3nNlRg8PQK', '_id': ObjectId('5e1d08e66be78d8673599e6c')}\n",
      "{'created_at': 'Tue Jan 14 00:18:42 +0000 2020', 'id_str': '1216877262848581632', 'text': 'RT @MauraAlwyen: Science has just as many false prophets as religion and American politics does. Data, the Scriptures, and the Constitution…', '_id': ObjectId('5e1d08e66be78d8673599e6d')}\n",
      "{'created_at': 'Tue Jan 14 00:18:49 +0000 2020', 'id_str': '1216877293773238272', 'text': 'RT @MattKresslein: Join us for the SOKY Robot Royale on Feb. 26th @GRRECKY!  EV3 &amp; Sphero Competitions, Drone Programming/Flying, @Scribit_…', '_id': ObjectId('5e1d08ee6be78d8673599e6e')}\n",
      "{'created_at': 'Tue Jan 14 00:18:50 +0000 2020', 'id_str': '1216877295765311489', 'text': 'RT @WjgotINrU14Z1fB: Javaで3年くらいやると、他言語の実業務に参加可能になるやつが増えてくる。\\n\\nなんでJavaだとそうなのかはわからないが、お堅い言語であるが故、信用されてる部分があるっぽい。\\n\\n実際のところ、言語転換の際に現場で困った話も聞かない。…', '_id': ObjectId('5e1d08ee6be78d8673599e6f')}\n",
      "{'created_at': 'Tue Jan 14 00:18:50 +0000 2020', 'id_str': '1216877296461795329', 'text': 'RT @Gurgling_MrD: Malicious JavaScript package was only active on the npm repository for two weeks. Microsoft spots malicious npm package s…', '_id': ObjectId('5e1d08ee6be78d8673599e70')}\n",
      "{'created_at': 'Tue Jan 14 00:18:52 +0000 2020', 'id_str': '1216877302845304832', 'text': \"RT @JamesFourM: @dark_wisdom_ @b_ofrights @TrickFreee @dcpoll @ninaandtito @3L3V3NTH @CORLEBRA777 Hey bruh. Let's not forget Bob Dole ➡️ Ma…\", '_id': ObjectId('5e1d08f06be78d8673599e71')}\n",
      "{'created_at': 'Tue Jan 14 00:18:53 +0000 2020', 'id_str': '1216877308386185216', 'text': 'RT @platzi: 📚 Seis Libros para mejorar tu conocimiento de Data Science 👇\\n#NuncaParesDeAprender\\nhttps://t.co/569j3rREx0 https://t.co/69KqUNy…', '_id': ObjectId('5e1d08f16be78d8673599e72')}\n",
      "{'created_at': 'Tue Jan 14 00:18:53 +0000 2020', 'id_str': '1216877308491051009', 'text': 'Applied for college and university today, mainly computer programming for Colledge and a English major for universi… https://t.co/WhrU7gq7Q9', '_id': ObjectId('5e1d08f16be78d8673599e73')}\n",
      "{'created_at': 'Tue Jan 14 00:18:58 +0000 2020', 'id_str': '1216877328266981376', 'text': 'RT @JamesFourM: @CORLEBRA777\\n@ninaandtito\\n\\nFounder &amp; pres of Grassroots Targeting worked for Bob &amp; Elizabeth Dole &amp; as  adviser to Reince P…', '_id': ObjectId('5e1d08f66be78d8673599e74')}\n",
      "{'created_at': 'Tue Jan 14 00:19:00 +0000 2020', 'id_str': '1216877337070850048', 'text': \"RT @sarah_edo: 🎉 If you're interested in learning how to animate on the web with JavaScript, I wrote up a post on how to animate with @gree…\", '_id': ObjectId('5e1d08f86be78d8673599e75')}\n",
      "{'created_at': 'Tue Jan 14 00:19:02 +0000 2020', 'id_str': '1216877347292532736', 'text': 'RT @RobotMakerGirl: The first part of the “thing” is officially built and tested. Now on to the programming stage! Then the woodworking sta…', '_id': ObjectId('5e1d08fb6be78d8673599e76')}\n",
      "{'created_at': 'Tue Jan 14 00:19:02 +0000 2020', 'id_str': '1216877347535826946', 'text': 'Moderated a data science panel yesterday\\n当我准备总结一个数据科学研讨环节时，问三位嘉宾：假如，您公司现在就开始没有数据，您的业务将会怎样？他们那惊讶的神情，告诉了我们数据对业务发展的重要性… https://t.co/JXnU7igBRD', '_id': ObjectId('5e1d08fb6be78d8673599e77')}\n",
      "{'created_at': 'Tue Jan 14 00:19:06 +0000 2020', 'id_str': '1216877361842544641', 'text': 'Hi, I can do the class for you\\nDM or Email✉ EssayNerd7@gmail.com \\n\\nGuarantees:\\n✴an A+ Grade√√\\n✴Timely Completion ⏱… https://t.co/UBs4lIMgBG', '_id': ObjectId('5e1d08fe6be78d8673599e78')}\n",
      "{'created_at': 'Tue Jan 14 00:19:08 +0000 2020', 'id_str': '1216877373045473280', 'text': 'For some reason remembering languages/tools I’ve developed in I haven’t heard much about in years.\\n#Powerbuilder,… https://t.co/CcYD8Ux1pX', '_id': ObjectId('5e1d09016be78d8673599e79')}\n",
      "{'created_at': 'Tue Jan 14 00:19:09 +0000 2020', 'id_str': '1216877373586624514', 'text': 'RT @thegrugq: Alternative take: knowing Haskell will get you a job delivering pizza, but JavaScript will get you a job at the big 5 https:/…', '_id': ObjectId('5e1d09016be78d8673599e7a')}\n",
      "{'created_at': 'Tue Jan 14 00:19:09 +0000 2020', 'id_str': '1216877375968989184', 'text': 'Gina Carano in a suit.....thats is all, we will now go back to your regularly scheduled programming #thisistheway https://t.co/QIC4xdsuhv', '_id': ObjectId('5e1d09016be78d8673599e7b')}\n",
      "{'created_at': 'Tue Jan 14 00:19:10 +0000 2020', 'id_str': '1216877378330218496', 'text': 'RT @spring_io: First milestone of Spring Boot 2.3 will be released this Thursday and will GA two weeks before Spring I/O.\\n\\nDon’t miss out a…', '_id': ObjectId('5e1d09026be78d8673599e7c')}\n",
      "{'created_at': 'Tue Jan 14 00:19:11 +0000 2020', 'id_str': '1216877385930432512', 'text': 'RT @genentech: Heading to #JPM20? Download S3E05 of our #podcast and find out more about the role of big data in #PersonalizedMedicine from…', '_id': ObjectId('5e1d09046be78d8673599e7d')}\n",
      "{'created_at': 'Tue Jan 14 00:19:12 +0000 2020', 'id_str': '1216877387318616064', 'text': 'おはようございます☀\\n\\n#今日の積み上げ  予定\\n✅#30DAYSトライアル 2nd Day3\\n\\n引き続きJavaScriptの学習です🏃\\u200d♂️\\n\\n通勤往復中にProgateアプリ版→帰宅後パソコン版の流れ最強だったので本日も同じスタイルでいきます💪\\n\\n#駆け出しエンジニア', '_id': ObjectId('5e1d09046be78d8673599e7e')}\n",
      "{'created_at': 'Tue Jan 14 00:19:12 +0000 2020', 'id_str': '1216877388753264641', 'text': 'RT @PVNCCDSB: As a result of a planned one-day full withdrawal of service by our teachers on Tuesday, Jan. 21, 2020, the Board will be clos…', '_id': ObjectId('5e1d09046be78d8673599e7f')}\n",
      "{'created_at': 'Tue Jan 14 00:19:15 +0000 2020', 'id_str': '1216877401822466048', 'text': 'Tapos na event so wala na akong ipopost na annoucements and shiz I am back to regular programming welcome to my kal… https://t.co/NGsR2RSEtm', '_id': ObjectId('5e1d09086be78d8673599e80')}\n"
     ]
    },
    {
     "name": "stdout",
     "output_type": "stream",
     "text": [
      "{'created_at': 'Tue Jan 14 00:19:16 +0000 2020', 'id_str': '1216877404041379847', 'text': 'RT @platzi: 📚 Seis Libros para mejorar tu conocimiento de Data Science 👇\\n#NuncaParesDeAprender\\nhttps://t.co/569j3rREx0 https://t.co/69KqUNy…', '_id': ObjectId('5e1d09086be78d8673599e81')}\n",
      "{'created_at': 'Tue Jan 14 00:19:17 +0000 2020', 'id_str': '1216877408147533824', 'text': 'RT @strnr: Eleven tips for working with big data https://t.co/KrdaN4gxSh\\nKeep raw data raw\\nViz\\nRecord workflow\\nUse version ctrl\\nRecord meta…', '_id': ObjectId('5e1d09096be78d8673599e82')}\n",
      "{'created_at': 'Tue Jan 14 00:19:17 +0000 2020', 'id_str': '1216877408718028800', 'text': '@AnimalDefenceBZ @DataCassette Please enforce the law against dog and wild boar fighting! Plz sign: https://t.co/n3pdX3hOP8', '_id': ObjectId('5e1d09096be78d8673599e83')}\n",
      "{'created_at': 'Tue Jan 14 00:19:20 +0000 2020', 'id_str': '1216877423142297600', 'text': 'Rock it: A Cradle Story — An Arduino-powered Baby Crib Rocker\\n\\n☞ https://t.co/jrrPvUwrGv\\n\\n#arduino #programming https://t.co/niOfINyVkE', '_id': ObjectId('5e1d090d6be78d8673599e84')}\n",
      "{'created_at': 'Tue Jan 14 00:19:22 +0000 2020', 'id_str': '1216877428603117568', 'text': 'RT @xximbecile: Bullshit. I was born in Madiun, live most of my youth without internet because my family is poor. And I know I read a lot.…', '_id': ObjectId('5e1d090e6be78d8673599e85')}\n",
      "{'created_at': 'Tue Jan 14 00:19:24 +0000 2020', 'id_str': '1216877436916379652', 'text': 'RT @sethrosen: Just converted to @webflow after years of preaching squarespace. Wow - just wow. \\n\\nI truly see why *this* is called no-code.…', '_id': ObjectId('5e1d09106be78d8673599e86')}\n",
      "{'created_at': 'Tue Jan 14 00:19:24 +0000 2020', 'id_str': '1216877437570543618', 'text': \"@SimonJo37129961 @Rectitude20 On the contrary, you're not appealing to the science &amp; data because epidemiological s… https://t.co/sqR3pkPIeR\", '_id': ObjectId('5e1d09106be78d8673599e87')}\n",
      "{'created_at': 'Tue Jan 14 00:19:26 +0000 2020', 'id_str': '1216877445447438336', 'text': \"Always the best bang for your buck of any pod out there, thank you guys. Y'all gotta check them out… https://t.co/gwg4EZKx58\", '_id': ObjectId('5e1d09126be78d8673599e88')}\n",
      "{'created_at': 'Tue Jan 14 00:19:29 +0000 2020', 'id_str': '1216877458613587976', 'text': 'RT @bass_analytics: An Effective Python Environment: Making Yourself at Home\\n@realpython #Python #programming #coding\\nhttps://t.co/jMkY3xyU…', '_id': ObjectId('5e1d09156be78d8673599e89')}\n",
      "{'created_at': 'Tue Jan 14 00:19:30 +0000 2020', 'id_str': '1216877463633969152', 'text': 'RT @thegrugq: Alternative take: knowing Haskell will get you a job delivering pizza, but JavaScript will get you a job at the big 5 https:/…', '_id': ObjectId('5e1d09166be78d8673599e8a')}\n",
      "{'created_at': 'Tue Jan 14 00:19:31 +0000 2020', 'id_str': '1216877469652914176', 'text': 'Acquista il libro \"Big Data, WebFare e Reddito per tutti. Quaderni per il Reddito n°9\". Sostieni il BIN Italia - BI… https://t.co/R55bbOsxa3', '_id': ObjectId('5e1d09186be78d8673599e8b')}\n",
      "{'created_at': 'Tue Jan 14 00:19:33 +0000 2020', 'id_str': '1216877475239616513', 'text': 'RT @MajoLedes: ✨Dejo esto por aquí.. \\n\\nHice un apunte de 24 páginas sobre conceptos principales de ReactJS🙈\\n\\nPueden ver el apunte completo…', '_id': ObjectId('5e1d09196be78d8673599e8c')}\n",
      "{'created_at': 'Tue Jan 14 00:19:33 +0000 2020', 'id_str': '1216877477403840512', 'text': 'RT @iowahawkblog: fun fact: this advanced state-of-the are artificial intelligence powered big data pizza thinkbot system was invented by T…', '_id': ObjectId('5e1d091a6be78d8673599e8d')}\n",
      "{'created_at': 'Tue Jan 14 00:19:35 +0000 2020', 'id_str': '1216877483796107267', 'text': 'RT @javascriptflx: Hermes: A new open source JavaScript engine optimized for mobile apps https://t.co/Zn7Zed8SkV  #Javascript', '_id': ObjectId('5e1d091b6be78d8673599e8e')}\n",
      "{'created_at': 'Tue Jan 14 00:19:40 +0000 2020', 'id_str': '1216877507754020866', 'text': \"RT @parscale: Big data from Toledo:\\n\\n✅ 22,927 Voters Identified\\n\\n✅ 18,210 Voters From Ohio\\n\\n✅ 5,216 Registrants Didn't Vote in 2016\\n\\n✅ 21.9…\", '_id': ObjectId('5e1d09216be78d8673599e8f')}\n",
      "{'created_at': 'Tue Jan 14 00:19:41 +0000 2020', 'id_str': '1216877508559343625', 'text': 'Big 5 Sporting Goods $BGFV Anticipates Fiscal 2019 Fourth Quarter EPS to Exceed High End of Prior Guidance Range… https://t.co/fCTX0sWhon', '_id': ObjectId('5e1d09216be78d8673599e90')}\n",
      "{'created_at': 'Tue Jan 14 00:19:42 +0000 2020', 'id_str': '1216877514049695752', 'text': 'RT @Arthur81288011: @A_Chapman101 @Jack62084141 Clear @HMRCgovuk must NOT be given new powers to automate processes that could cause distre…', '_id': ObjectId('5e1d09226be78d8673599e91')}\n",
      "{'created_at': 'Tue Jan 14 00:19:46 +0000 2020', 'id_str': '1216877530222743553', 'text': '@RandallKopchak @OptimistPanda The problem (if you can call it that) was that DS9 was way ahead of its time in term… https://t.co/y2UI7XQjYm', '_id': ObjectId('5e1d09266be78d8673599e92')}\n",
      "{'created_at': 'Tue Jan 14 00:19:51 +0000 2020', 'id_str': '1216877549860663296', 'text': 'This thing is only growing. Excited to see what Gatsby will be like even 5 years from now.', '_id': ObjectId('5e1d092b6be78d8673599e93')}\n",
      "{'created_at': 'Tue Jan 14 00:19:52 +0000 2020', 'id_str': '1216877555946414081', 'text': \"2.  but oh well, it's cool data science!\", '_id': ObjectId('5e1d092c6be78d8673599e94')}\n",
      "{'created_at': 'Tue Jan 14 00:19:53 +0000 2020', 'id_str': '1216877561839484929', 'text': 'RT @KinarmLab: Kinarm Camp registration is now open!  Come join us June 8-12th in beautiful #ygk for a week of intensive #kinarm programmin…', '_id': ObjectId('5e1d092e6be78d8673599e95')}\n",
      "{'created_at': 'Tue Jan 14 00:19:56 +0000 2020', 'id_str': '1216877570819600389', 'text': 'RT @ElemTeachersTO: The #TDSB has cut $13 million dollars of French programming and is planning to eliminate Extended French starting next…', '_id': ObjectId('5e1d09306be78d8673599e96')}\n",
      "{'created_at': 'Tue Jan 14 00:19:56 +0000 2020', 'id_str': '1216877570978803712', 'text': 'RT @byLilyV: FEATURED #COURSES\\n\\nThe #Data #Science #Course 2019: Complete Data Science Bootcamp\\n\\nBest Seller 144,730 students enrolled\\n\\nCom…', '_id': ObjectId('5e1d09306be78d8673599e97')}\n",
      "{'created_at': 'Tue Jan 14 00:20:00 +0000 2020', 'id_str': '1216877588385271808', 'text': 'How to pack #Angular 8 applications on regular war files https://t.co/t1AXyA1wD1 #javascript #typescript #frontend #webdev', '_id': ObjectId('5e1d09346be78d8673599e98')}\n",
      "{'created_at': 'Tue Jan 14 00:20:00 +0000 2020', 'id_str': '1216877589110951936', 'text': 'CoStar Group (@TheCoStarGroup) is hiring https://t.co/cWm6u5KE5o #reactjs #angularjs', '_id': ObjectId('5e1d09346be78d8673599e99')}\n",
      "{'created_at': 'Tue Jan 14 00:20:02 +0000 2020', 'id_str': '1216877599143665669', 'text': 'RT @NexWebSites: #Programming\\n👇\\nVisual Studio @code Keyboard Board Shortcuts for:\\n \\n👉Windows : PDF🔗: https://t.co/xxPqHUMjS3\\n 👉#Linux : PDF…', '_id': ObjectId('5e1d09376be78d8673599e9a')}\n",
      "{'created_at': 'Tue Jan 14 00:20:03 +0000 2020', 'id_str': '1216877600955621377', 'text': 'Everyone has his or her own way of analyzing data to find the right answers. This is why self-service in a business… https://t.co/264klNDvA1', '_id': ObjectId('5e1d09376be78d8673599e9b')}\n",
      "{'created_at': 'Tue Jan 14 00:20:09 +0000 2020', 'id_str': '1216877627937579011', 'text': 'RT @Payara_Fish: JavaFX Strikes Back - Latest #Airhacks podcast from @AdamBien\\nCatching up with Gluons @johanvos, talking about advantages…', '_id': ObjectId('5e1d093d6be78d8673599e9c')}\n",
      "{'created_at': 'Tue Jan 14 00:20:13 +0000 2020', 'id_str': '1216877645977325569', 'text': '32 Tips For Every #WebDeveloper In 2020 #BetterProgramming via https://t.co/Q6JBQhnTTy https://t.co/3hwgAJhmSs', '_id': ObjectId('5e1d09426be78d8673599e9d')}\n"
     ]
    },
    {
     "ename": "KeyboardInterrupt",
     "evalue": "",
     "output_type": "error",
     "traceback": [
      "\u001b[1;31m---------------------------------------------------------------------------\u001b[0m",
      "\u001b[1;31mKeyboardInterrupt\u001b[0m                         Traceback (most recent call last)",
      "\u001b[1;32m<ipython-input-262-c100010f28dc>\u001b[0m in \u001b[0;36m<module>\u001b[1;34m\u001b[0m\n\u001b[1;32m----> 1\u001b[1;33m \u001b[0mmystream\u001b[0m\u001b[1;33m.\u001b[0m\u001b[0mfilter\u001b[0m\u001b[1;33m(\u001b[0m\u001b[0mtrack\u001b[0m\u001b[1;33m=\u001b[0m\u001b[0mpalavras_chave\u001b[0m\u001b[1;33m)\u001b[0m\u001b[1;33m\u001b[0m\u001b[1;33m\u001b[0m\u001b[0m\n\u001b[0m",
      "\u001b[1;32mc:\\users\\lord_negrisoli\\appdata\\local\\programs\\python\\python37\\lib\\site-packages\\tweepy\\streaming.py\u001b[0m in \u001b[0;36mfilter\u001b[1;34m(self, follow, track, is_async, locations, stall_warnings, languages, encoding, filter_level)\u001b[0m\n\u001b[0;32m    472\u001b[0m             \u001b[0mself\u001b[0m\u001b[1;33m.\u001b[0m\u001b[0mbody\u001b[0m\u001b[1;33m[\u001b[0m\u001b[1;34m'filter_level'\u001b[0m\u001b[1;33m]\u001b[0m \u001b[1;33m=\u001b[0m \u001b[0mfilter_level\u001b[0m\u001b[1;33m.\u001b[0m\u001b[0mencode\u001b[0m\u001b[1;33m(\u001b[0m\u001b[0mencoding\u001b[0m\u001b[1;33m)\u001b[0m\u001b[1;33m\u001b[0m\u001b[1;33m\u001b[0m\u001b[0m\n\u001b[0;32m    473\u001b[0m         \u001b[0mself\u001b[0m\u001b[1;33m.\u001b[0m\u001b[0msession\u001b[0m\u001b[1;33m.\u001b[0m\u001b[0mparams\u001b[0m \u001b[1;33m=\u001b[0m \u001b[1;33m{\u001b[0m\u001b[1;34m'delimited'\u001b[0m\u001b[1;33m:\u001b[0m \u001b[1;34m'length'\u001b[0m\u001b[1;33m}\u001b[0m\u001b[1;33m\u001b[0m\u001b[1;33m\u001b[0m\u001b[0m\n\u001b[1;32m--> 474\u001b[1;33m         \u001b[0mself\u001b[0m\u001b[1;33m.\u001b[0m\u001b[0m_start\u001b[0m\u001b[1;33m(\u001b[0m\u001b[0mis_async\u001b[0m\u001b[1;33m)\u001b[0m\u001b[1;33m\u001b[0m\u001b[1;33m\u001b[0m\u001b[0m\n\u001b[0m\u001b[0;32m    475\u001b[0m \u001b[1;33m\u001b[0m\u001b[0m\n\u001b[0;32m    476\u001b[0m     def sitestream(self, follow, stall_warnings=False,\n",
      "\u001b[1;32mc:\\users\\lord_negrisoli\\appdata\\local\\programs\\python\\python37\\lib\\site-packages\\tweepy\\streaming.py\u001b[0m in \u001b[0;36m_start\u001b[1;34m(self, is_async)\u001b[0m\n\u001b[0;32m    387\u001b[0m             \u001b[0mself\u001b[0m\u001b[1;33m.\u001b[0m\u001b[0m_thread\u001b[0m\u001b[1;33m.\u001b[0m\u001b[0mstart\u001b[0m\u001b[1;33m(\u001b[0m\u001b[1;33m)\u001b[0m\u001b[1;33m\u001b[0m\u001b[1;33m\u001b[0m\u001b[0m\n\u001b[0;32m    388\u001b[0m         \u001b[1;32melse\u001b[0m\u001b[1;33m:\u001b[0m\u001b[1;33m\u001b[0m\u001b[1;33m\u001b[0m\u001b[0m\n\u001b[1;32m--> 389\u001b[1;33m             \u001b[0mself\u001b[0m\u001b[1;33m.\u001b[0m\u001b[0m_run\u001b[0m\u001b[1;33m(\u001b[0m\u001b[1;33m)\u001b[0m\u001b[1;33m\u001b[0m\u001b[1;33m\u001b[0m\u001b[0m\n\u001b[0m\u001b[0;32m    390\u001b[0m \u001b[1;33m\u001b[0m\u001b[0m\n\u001b[0;32m    391\u001b[0m     \u001b[1;32mdef\u001b[0m \u001b[0mon_closed\u001b[0m\u001b[1;33m(\u001b[0m\u001b[0mself\u001b[0m\u001b[1;33m,\u001b[0m \u001b[0mresp\u001b[0m\u001b[1;33m)\u001b[0m\u001b[1;33m:\u001b[0m\u001b[1;33m\u001b[0m\u001b[1;33m\u001b[0m\u001b[0m\n",
      "\u001b[1;32mc:\\users\\lord_negrisoli\\appdata\\local\\programs\\python\\python37\\lib\\site-packages\\tweepy\\streaming.py\u001b[0m in \u001b[0;36m_run\u001b[1;34m(self)\u001b[0m\n\u001b[0;32m    287\u001b[0m                     \u001b[0mself\u001b[0m\u001b[1;33m.\u001b[0m\u001b[0msnooze_time\u001b[0m \u001b[1;33m=\u001b[0m \u001b[0mself\u001b[0m\u001b[1;33m.\u001b[0m\u001b[0msnooze_time_step\u001b[0m\u001b[1;33m\u001b[0m\u001b[1;33m\u001b[0m\u001b[0m\n\u001b[0;32m    288\u001b[0m                     \u001b[0mself\u001b[0m\u001b[1;33m.\u001b[0m\u001b[0mlistener\u001b[0m\u001b[1;33m.\u001b[0m\u001b[0mon_connect\u001b[0m\u001b[1;33m(\u001b[0m\u001b[1;33m)\u001b[0m\u001b[1;33m\u001b[0m\u001b[1;33m\u001b[0m\u001b[0m\n\u001b[1;32m--> 289\u001b[1;33m                     \u001b[0mself\u001b[0m\u001b[1;33m.\u001b[0m\u001b[0m_read_loop\u001b[0m\u001b[1;33m(\u001b[0m\u001b[0mresp\u001b[0m\u001b[1;33m)\u001b[0m\u001b[1;33m\u001b[0m\u001b[1;33m\u001b[0m\u001b[0m\n\u001b[0m\u001b[0;32m    290\u001b[0m             \u001b[1;32mexcept\u001b[0m \u001b[1;33m(\u001b[0m\u001b[0mTimeout\u001b[0m\u001b[1;33m,\u001b[0m \u001b[0mssl\u001b[0m\u001b[1;33m.\u001b[0m\u001b[0mSSLError\u001b[0m\u001b[1;33m)\u001b[0m \u001b[1;32mas\u001b[0m \u001b[0mexc\u001b[0m\u001b[1;33m:\u001b[0m\u001b[1;33m\u001b[0m\u001b[1;33m\u001b[0m\u001b[0m\n\u001b[0;32m    291\u001b[0m                 \u001b[1;31m# This is still necessary, as a SSLError can actually be\u001b[0m\u001b[1;33m\u001b[0m\u001b[1;33m\u001b[0m\u001b[1;33m\u001b[0m\u001b[0m\n",
      "\u001b[1;32mc:\\users\\lord_negrisoli\\appdata\\local\\programs\\python\\python37\\lib\\site-packages\\tweepy\\streaming.py\u001b[0m in \u001b[0;36m_read_loop\u001b[1;34m(self, resp)\u001b[0m\n\u001b[0;32m    337\u001b[0m             \u001b[0mlength\u001b[0m \u001b[1;33m=\u001b[0m \u001b[1;36m0\u001b[0m\u001b[1;33m\u001b[0m\u001b[1;33m\u001b[0m\u001b[0m\n\u001b[0;32m    338\u001b[0m             \u001b[1;32mwhile\u001b[0m \u001b[1;32mnot\u001b[0m \u001b[0mresp\u001b[0m\u001b[1;33m.\u001b[0m\u001b[0mraw\u001b[0m\u001b[1;33m.\u001b[0m\u001b[0mclosed\u001b[0m\u001b[1;33m:\u001b[0m\u001b[1;33m\u001b[0m\u001b[1;33m\u001b[0m\u001b[0m\n\u001b[1;32m--> 339\u001b[1;33m                 \u001b[0mline\u001b[0m \u001b[1;33m=\u001b[0m \u001b[0mbuf\u001b[0m\u001b[1;33m.\u001b[0m\u001b[0mread_line\u001b[0m\u001b[1;33m(\u001b[0m\u001b[1;33m)\u001b[0m\u001b[1;33m\u001b[0m\u001b[1;33m\u001b[0m\u001b[0m\n\u001b[0m\u001b[0;32m    340\u001b[0m                 \u001b[0mstripped_line\u001b[0m \u001b[1;33m=\u001b[0m \u001b[0mline\u001b[0m\u001b[1;33m.\u001b[0m\u001b[0mstrip\u001b[0m\u001b[1;33m(\u001b[0m\u001b[1;33m)\u001b[0m \u001b[1;32mif\u001b[0m \u001b[0mline\u001b[0m \u001b[1;32melse\u001b[0m \u001b[0mline\u001b[0m \u001b[1;31m# line is sometimes None so we need to check here\u001b[0m\u001b[1;33m\u001b[0m\u001b[1;33m\u001b[0m\u001b[0m\n\u001b[0;32m    341\u001b[0m                 \u001b[1;32mif\u001b[0m \u001b[1;32mnot\u001b[0m \u001b[0mstripped_line\u001b[0m\u001b[1;33m:\u001b[0m\u001b[1;33m\u001b[0m\u001b[1;33m\u001b[0m\u001b[0m\n",
      "\u001b[1;32mc:\\users\\lord_negrisoli\\appdata\\local\\programs\\python\\python37\\lib\\site-packages\\tweepy\\streaming.py\u001b[0m in \u001b[0;36mread_line\u001b[1;34m(self, sep)\u001b[0m\n\u001b[0;32m    198\u001b[0m             \u001b[1;32melse\u001b[0m\u001b[1;33m:\u001b[0m\u001b[1;33m\u001b[0m\u001b[1;33m\u001b[0m\u001b[0m\n\u001b[0;32m    199\u001b[0m                 \u001b[0mstart\u001b[0m \u001b[1;33m=\u001b[0m \u001b[0mlen\u001b[0m\u001b[1;33m(\u001b[0m\u001b[0mself\u001b[0m\u001b[1;33m.\u001b[0m\u001b[0m_buffer\u001b[0m\u001b[1;33m)\u001b[0m\u001b[1;33m\u001b[0m\u001b[1;33m\u001b[0m\u001b[0m\n\u001b[1;32m--> 200\u001b[1;33m             \u001b[0mself\u001b[0m\u001b[1;33m.\u001b[0m\u001b[0m_buffer\u001b[0m \u001b[1;33m+=\u001b[0m \u001b[0mself\u001b[0m\u001b[1;33m.\u001b[0m\u001b[0m_stream\u001b[0m\u001b[1;33m.\u001b[0m\u001b[0mread\u001b[0m\u001b[1;33m(\u001b[0m\u001b[0mself\u001b[0m\u001b[1;33m.\u001b[0m\u001b[0m_chunk_size\u001b[0m\u001b[1;33m)\u001b[0m\u001b[1;33m\u001b[0m\u001b[1;33m\u001b[0m\u001b[0m\n\u001b[0m\u001b[0;32m    201\u001b[0m         \u001b[1;32mreturn\u001b[0m \u001b[0msix\u001b[0m\u001b[1;33m.\u001b[0m\u001b[0mb\u001b[0m\u001b[1;33m(\u001b[0m\u001b[1;34m''\u001b[0m\u001b[1;33m)\u001b[0m\u001b[1;33m\u001b[0m\u001b[1;33m\u001b[0m\u001b[0m\n\u001b[0;32m    202\u001b[0m \u001b[1;33m\u001b[0m\u001b[0m\n",
      "\u001b[1;32mc:\\users\\lord_negrisoli\\appdata\\local\\programs\\python\\python37\\lib\\site-packages\\urllib3\\response.py\u001b[0m in \u001b[0;36mread\u001b[1;34m(self, amt, decode_content, cache_content)\u001b[0m\n\u001b[0;32m    505\u001b[0m             \u001b[1;32melse\u001b[0m\u001b[1;33m:\u001b[0m\u001b[1;33m\u001b[0m\u001b[1;33m\u001b[0m\u001b[0m\n\u001b[0;32m    506\u001b[0m                 \u001b[0mcache_content\u001b[0m \u001b[1;33m=\u001b[0m \u001b[1;32mFalse\u001b[0m\u001b[1;33m\u001b[0m\u001b[1;33m\u001b[0m\u001b[0m\n\u001b[1;32m--> 507\u001b[1;33m                 \u001b[0mdata\u001b[0m \u001b[1;33m=\u001b[0m \u001b[0mself\u001b[0m\u001b[1;33m.\u001b[0m\u001b[0m_fp\u001b[0m\u001b[1;33m.\u001b[0m\u001b[0mread\u001b[0m\u001b[1;33m(\u001b[0m\u001b[0mamt\u001b[0m\u001b[1;33m)\u001b[0m \u001b[1;32mif\u001b[0m \u001b[1;32mnot\u001b[0m \u001b[0mfp_closed\u001b[0m \u001b[1;32melse\u001b[0m \u001b[1;34mb\"\"\u001b[0m\u001b[1;33m\u001b[0m\u001b[1;33m\u001b[0m\u001b[0m\n\u001b[0m\u001b[0;32m    508\u001b[0m                 if (\n\u001b[0;32m    509\u001b[0m                     \u001b[0mamt\u001b[0m \u001b[1;33m!=\u001b[0m \u001b[1;36m0\u001b[0m \u001b[1;32mand\u001b[0m \u001b[1;32mnot\u001b[0m \u001b[0mdata\u001b[0m\u001b[1;33m\u001b[0m\u001b[1;33m\u001b[0m\u001b[0m\n",
      "\u001b[1;32mc:\\users\\lord_negrisoli\\appdata\\local\\programs\\python\\python37\\lib\\http\\client.py\u001b[0m in \u001b[0;36mread\u001b[1;34m(self, amt)\u001b[0m\n\u001b[0;32m    455\u001b[0m             \u001b[1;31m# Amount is given, implement using readinto\u001b[0m\u001b[1;33m\u001b[0m\u001b[1;33m\u001b[0m\u001b[1;33m\u001b[0m\u001b[0m\n\u001b[0;32m    456\u001b[0m             \u001b[0mb\u001b[0m \u001b[1;33m=\u001b[0m \u001b[0mbytearray\u001b[0m\u001b[1;33m(\u001b[0m\u001b[0mamt\u001b[0m\u001b[1;33m)\u001b[0m\u001b[1;33m\u001b[0m\u001b[1;33m\u001b[0m\u001b[0m\n\u001b[1;32m--> 457\u001b[1;33m             \u001b[0mn\u001b[0m \u001b[1;33m=\u001b[0m \u001b[0mself\u001b[0m\u001b[1;33m.\u001b[0m\u001b[0mreadinto\u001b[0m\u001b[1;33m(\u001b[0m\u001b[0mb\u001b[0m\u001b[1;33m)\u001b[0m\u001b[1;33m\u001b[0m\u001b[1;33m\u001b[0m\u001b[0m\n\u001b[0m\u001b[0;32m    458\u001b[0m             \u001b[1;32mreturn\u001b[0m \u001b[0mmemoryview\u001b[0m\u001b[1;33m(\u001b[0m\u001b[0mb\u001b[0m\u001b[1;33m)\u001b[0m\u001b[1;33m[\u001b[0m\u001b[1;33m:\u001b[0m\u001b[0mn\u001b[0m\u001b[1;33m]\u001b[0m\u001b[1;33m.\u001b[0m\u001b[0mtobytes\u001b[0m\u001b[1;33m(\u001b[0m\u001b[1;33m)\u001b[0m\u001b[1;33m\u001b[0m\u001b[1;33m\u001b[0m\u001b[0m\n\u001b[0;32m    459\u001b[0m         \u001b[1;32melse\u001b[0m\u001b[1;33m:\u001b[0m\u001b[1;33m\u001b[0m\u001b[1;33m\u001b[0m\u001b[0m\n",
      "\u001b[1;32mc:\\users\\lord_negrisoli\\appdata\\local\\programs\\python\\python37\\lib\\http\\client.py\u001b[0m in \u001b[0;36mreadinto\u001b[1;34m(self, b)\u001b[0m\n\u001b[0;32m    489\u001b[0m \u001b[1;33m\u001b[0m\u001b[0m\n\u001b[0;32m    490\u001b[0m         \u001b[1;32mif\u001b[0m \u001b[0mself\u001b[0m\u001b[1;33m.\u001b[0m\u001b[0mchunked\u001b[0m\u001b[1;33m:\u001b[0m\u001b[1;33m\u001b[0m\u001b[1;33m\u001b[0m\u001b[0m\n\u001b[1;32m--> 491\u001b[1;33m             \u001b[1;32mreturn\u001b[0m \u001b[0mself\u001b[0m\u001b[1;33m.\u001b[0m\u001b[0m_readinto_chunked\u001b[0m\u001b[1;33m(\u001b[0m\u001b[0mb\u001b[0m\u001b[1;33m)\u001b[0m\u001b[1;33m\u001b[0m\u001b[1;33m\u001b[0m\u001b[0m\n\u001b[0m\u001b[0;32m    492\u001b[0m \u001b[1;33m\u001b[0m\u001b[0m\n\u001b[0;32m    493\u001b[0m         \u001b[1;32mif\u001b[0m \u001b[0mself\u001b[0m\u001b[1;33m.\u001b[0m\u001b[0mlength\u001b[0m \u001b[1;32mis\u001b[0m \u001b[1;32mnot\u001b[0m \u001b[1;32mNone\u001b[0m\u001b[1;33m:\u001b[0m\u001b[1;33m\u001b[0m\u001b[1;33m\u001b[0m\u001b[0m\n",
      "\u001b[1;32mc:\\users\\lord_negrisoli\\appdata\\local\\programs\\python\\python37\\lib\\http\\client.py\u001b[0m in \u001b[0;36m_readinto_chunked\u001b[1;34m(self, b)\u001b[0m\n\u001b[0;32m    584\u001b[0m         \u001b[1;32mtry\u001b[0m\u001b[1;33m:\u001b[0m\u001b[1;33m\u001b[0m\u001b[1;33m\u001b[0m\u001b[0m\n\u001b[0;32m    585\u001b[0m             \u001b[1;32mwhile\u001b[0m \u001b[1;32mTrue\u001b[0m\u001b[1;33m:\u001b[0m\u001b[1;33m\u001b[0m\u001b[1;33m\u001b[0m\u001b[0m\n\u001b[1;32m--> 586\u001b[1;33m                 \u001b[0mchunk_left\u001b[0m \u001b[1;33m=\u001b[0m \u001b[0mself\u001b[0m\u001b[1;33m.\u001b[0m\u001b[0m_get_chunk_left\u001b[0m\u001b[1;33m(\u001b[0m\u001b[1;33m)\u001b[0m\u001b[1;33m\u001b[0m\u001b[1;33m\u001b[0m\u001b[0m\n\u001b[0m\u001b[0;32m    587\u001b[0m                 \u001b[1;32mif\u001b[0m \u001b[0mchunk_left\u001b[0m \u001b[1;32mis\u001b[0m \u001b[1;32mNone\u001b[0m\u001b[1;33m:\u001b[0m\u001b[1;33m\u001b[0m\u001b[1;33m\u001b[0m\u001b[0m\n\u001b[0;32m    588\u001b[0m                     \u001b[1;32mreturn\u001b[0m \u001b[0mtotal_bytes\u001b[0m\u001b[1;33m\u001b[0m\u001b[1;33m\u001b[0m\u001b[0m\n",
      "\u001b[1;32mc:\\users\\lord_negrisoli\\appdata\\local\\programs\\python\\python37\\lib\\http\\client.py\u001b[0m in \u001b[0;36m_get_chunk_left\u001b[1;34m(self)\u001b[0m\n\u001b[0;32m    552\u001b[0m                 \u001b[0mself\u001b[0m\u001b[1;33m.\u001b[0m\u001b[0m_safe_read\u001b[0m\u001b[1;33m(\u001b[0m\u001b[1;36m2\u001b[0m\u001b[1;33m)\u001b[0m  \u001b[1;31m# toss the CRLF at the end of the chunk\u001b[0m\u001b[1;33m\u001b[0m\u001b[1;33m\u001b[0m\u001b[0m\n\u001b[0;32m    553\u001b[0m             \u001b[1;32mtry\u001b[0m\u001b[1;33m:\u001b[0m\u001b[1;33m\u001b[0m\u001b[1;33m\u001b[0m\u001b[0m\n\u001b[1;32m--> 554\u001b[1;33m                 \u001b[0mchunk_left\u001b[0m \u001b[1;33m=\u001b[0m \u001b[0mself\u001b[0m\u001b[1;33m.\u001b[0m\u001b[0m_read_next_chunk_size\u001b[0m\u001b[1;33m(\u001b[0m\u001b[1;33m)\u001b[0m\u001b[1;33m\u001b[0m\u001b[1;33m\u001b[0m\u001b[0m\n\u001b[0m\u001b[0;32m    555\u001b[0m             \u001b[1;32mexcept\u001b[0m \u001b[0mValueError\u001b[0m\u001b[1;33m:\u001b[0m\u001b[1;33m\u001b[0m\u001b[1;33m\u001b[0m\u001b[0m\n\u001b[0;32m    556\u001b[0m                 \u001b[1;32mraise\u001b[0m \u001b[0mIncompleteRead\u001b[0m\u001b[1;33m(\u001b[0m\u001b[1;34mb''\u001b[0m\u001b[1;33m)\u001b[0m\u001b[1;33m\u001b[0m\u001b[1;33m\u001b[0m\u001b[0m\n",
      "\u001b[1;32mc:\\users\\lord_negrisoli\\appdata\\local\\programs\\python\\python37\\lib\\http\\client.py\u001b[0m in \u001b[0;36m_read_next_chunk_size\u001b[1;34m(self)\u001b[0m\n\u001b[0;32m    512\u001b[0m     \u001b[1;32mdef\u001b[0m \u001b[0m_read_next_chunk_size\u001b[0m\u001b[1;33m(\u001b[0m\u001b[0mself\u001b[0m\u001b[1;33m)\u001b[0m\u001b[1;33m:\u001b[0m\u001b[1;33m\u001b[0m\u001b[1;33m\u001b[0m\u001b[0m\n\u001b[0;32m    513\u001b[0m         \u001b[1;31m# Read the next chunk size from the file\u001b[0m\u001b[1;33m\u001b[0m\u001b[1;33m\u001b[0m\u001b[1;33m\u001b[0m\u001b[0m\n\u001b[1;32m--> 514\u001b[1;33m         \u001b[0mline\u001b[0m \u001b[1;33m=\u001b[0m \u001b[0mself\u001b[0m\u001b[1;33m.\u001b[0m\u001b[0mfp\u001b[0m\u001b[1;33m.\u001b[0m\u001b[0mreadline\u001b[0m\u001b[1;33m(\u001b[0m\u001b[0m_MAXLINE\u001b[0m \u001b[1;33m+\u001b[0m \u001b[1;36m1\u001b[0m\u001b[1;33m)\u001b[0m\u001b[1;33m\u001b[0m\u001b[1;33m\u001b[0m\u001b[0m\n\u001b[0m\u001b[0;32m    515\u001b[0m         \u001b[1;32mif\u001b[0m \u001b[0mlen\u001b[0m\u001b[1;33m(\u001b[0m\u001b[0mline\u001b[0m\u001b[1;33m)\u001b[0m \u001b[1;33m>\u001b[0m \u001b[0m_MAXLINE\u001b[0m\u001b[1;33m:\u001b[0m\u001b[1;33m\u001b[0m\u001b[1;33m\u001b[0m\u001b[0m\n\u001b[0;32m    516\u001b[0m             \u001b[1;32mraise\u001b[0m \u001b[0mLineTooLong\u001b[0m\u001b[1;33m(\u001b[0m\u001b[1;34m\"chunk size\"\u001b[0m\u001b[1;33m)\u001b[0m\u001b[1;33m\u001b[0m\u001b[1;33m\u001b[0m\u001b[0m\n",
      "\u001b[1;32mc:\\users\\lord_negrisoli\\appdata\\local\\programs\\python\\python37\\lib\\socket.py\u001b[0m in \u001b[0;36mreadinto\u001b[1;34m(self, b)\u001b[0m\n\u001b[0;32m    587\u001b[0m         \u001b[1;32mwhile\u001b[0m \u001b[1;32mTrue\u001b[0m\u001b[1;33m:\u001b[0m\u001b[1;33m\u001b[0m\u001b[1;33m\u001b[0m\u001b[0m\n\u001b[0;32m    588\u001b[0m             \u001b[1;32mtry\u001b[0m\u001b[1;33m:\u001b[0m\u001b[1;33m\u001b[0m\u001b[1;33m\u001b[0m\u001b[0m\n\u001b[1;32m--> 589\u001b[1;33m                 \u001b[1;32mreturn\u001b[0m \u001b[0mself\u001b[0m\u001b[1;33m.\u001b[0m\u001b[0m_sock\u001b[0m\u001b[1;33m.\u001b[0m\u001b[0mrecv_into\u001b[0m\u001b[1;33m(\u001b[0m\u001b[0mb\u001b[0m\u001b[1;33m)\u001b[0m\u001b[1;33m\u001b[0m\u001b[1;33m\u001b[0m\u001b[0m\n\u001b[0m\u001b[0;32m    590\u001b[0m             \u001b[1;32mexcept\u001b[0m \u001b[0mtimeout\u001b[0m\u001b[1;33m:\u001b[0m\u001b[1;33m\u001b[0m\u001b[1;33m\u001b[0m\u001b[0m\n\u001b[0;32m    591\u001b[0m                 \u001b[0mself\u001b[0m\u001b[1;33m.\u001b[0m\u001b[0m_timeout_occurred\u001b[0m \u001b[1;33m=\u001b[0m \u001b[1;32mTrue\u001b[0m\u001b[1;33m\u001b[0m\u001b[1;33m\u001b[0m\u001b[0m\n",
      "\u001b[1;32mc:\\users\\lord_negrisoli\\appdata\\local\\programs\\python\\python37\\lib\\ssl.py\u001b[0m in \u001b[0;36mrecv_into\u001b[1;34m(self, buffer, nbytes, flags)\u001b[0m\n\u001b[0;32m   1069\u001b[0m                   \u001b[1;34m\"non-zero flags not allowed in calls to recv_into() on %s\"\u001b[0m \u001b[1;33m%\u001b[0m\u001b[1;33m\u001b[0m\u001b[1;33m\u001b[0m\u001b[0m\n\u001b[0;32m   1070\u001b[0m                   self.__class__)\n\u001b[1;32m-> 1071\u001b[1;33m             \u001b[1;32mreturn\u001b[0m \u001b[0mself\u001b[0m\u001b[1;33m.\u001b[0m\u001b[0mread\u001b[0m\u001b[1;33m(\u001b[0m\u001b[0mnbytes\u001b[0m\u001b[1;33m,\u001b[0m \u001b[0mbuffer\u001b[0m\u001b[1;33m)\u001b[0m\u001b[1;33m\u001b[0m\u001b[1;33m\u001b[0m\u001b[0m\n\u001b[0m\u001b[0;32m   1072\u001b[0m         \u001b[1;32melse\u001b[0m\u001b[1;33m:\u001b[0m\u001b[1;33m\u001b[0m\u001b[1;33m\u001b[0m\u001b[0m\n\u001b[0;32m   1073\u001b[0m             \u001b[1;32mreturn\u001b[0m \u001b[0msuper\u001b[0m\u001b[1;33m(\u001b[0m\u001b[1;33m)\u001b[0m\u001b[1;33m.\u001b[0m\u001b[0mrecv_into\u001b[0m\u001b[1;33m(\u001b[0m\u001b[0mbuffer\u001b[0m\u001b[1;33m,\u001b[0m \u001b[0mnbytes\u001b[0m\u001b[1;33m,\u001b[0m \u001b[0mflags\u001b[0m\u001b[1;33m)\u001b[0m\u001b[1;33m\u001b[0m\u001b[1;33m\u001b[0m\u001b[0m\n",
      "\u001b[1;32mc:\\users\\lord_negrisoli\\appdata\\local\\programs\\python\\python37\\lib\\ssl.py\u001b[0m in \u001b[0;36mread\u001b[1;34m(self, len, buffer)\u001b[0m\n\u001b[0;32m    927\u001b[0m         \u001b[1;32mtry\u001b[0m\u001b[1;33m:\u001b[0m\u001b[1;33m\u001b[0m\u001b[1;33m\u001b[0m\u001b[0m\n\u001b[0;32m    928\u001b[0m             \u001b[1;32mif\u001b[0m \u001b[0mbuffer\u001b[0m \u001b[1;32mis\u001b[0m \u001b[1;32mnot\u001b[0m \u001b[1;32mNone\u001b[0m\u001b[1;33m:\u001b[0m\u001b[1;33m\u001b[0m\u001b[1;33m\u001b[0m\u001b[0m\n\u001b[1;32m--> 929\u001b[1;33m                 \u001b[1;32mreturn\u001b[0m \u001b[0mself\u001b[0m\u001b[1;33m.\u001b[0m\u001b[0m_sslobj\u001b[0m\u001b[1;33m.\u001b[0m\u001b[0mread\u001b[0m\u001b[1;33m(\u001b[0m\u001b[0mlen\u001b[0m\u001b[1;33m,\u001b[0m \u001b[0mbuffer\u001b[0m\u001b[1;33m)\u001b[0m\u001b[1;33m\u001b[0m\u001b[1;33m\u001b[0m\u001b[0m\n\u001b[0m\u001b[0;32m    930\u001b[0m             \u001b[1;32melse\u001b[0m\u001b[1;33m:\u001b[0m\u001b[1;33m\u001b[0m\u001b[1;33m\u001b[0m\u001b[0m\n\u001b[0;32m    931\u001b[0m                 \u001b[1;32mreturn\u001b[0m \u001b[0mself\u001b[0m\u001b[1;33m.\u001b[0m\u001b[0m_sslobj\u001b[0m\u001b[1;33m.\u001b[0m\u001b[0mread\u001b[0m\u001b[1;33m(\u001b[0m\u001b[0mlen\u001b[0m\u001b[1;33m)\u001b[0m\u001b[1;33m\u001b[0m\u001b[1;33m\u001b[0m\u001b[0m\n",
      "\u001b[1;31mKeyboardInterrupt\u001b[0m: "
     ]
    }
   ],
   "source": [
    "mystream.filter(track=palavras_chave)"
   ]
  },
  {
   "cell_type": "code",
   "execution_count": 263,
   "metadata": {},
   "outputs": [],
   "source": [
    "mystream.disconnect()"
   ]
  },
  {
   "cell_type": "code",
   "execution_count": 264,
   "metadata": {},
   "outputs": [
    {
     "data": {
      "text/plain": [
       "129"
      ]
     },
     "execution_count": 264,
     "metadata": {},
     "output_type": "execute_result"
    }
   ],
   "source": [
    "colecao.estimated_document_count()"
   ]
  },
  {
   "cell_type": "code",
   "execution_count": 265,
   "metadata": {},
   "outputs": [
    {
     "name": "stdout",
     "output_type": "stream",
     "text": [
      "{'_id': ObjectId('5e1d07f86be78d8673599e1d'), 'created_at': 'Tue Jan 14 00:14:44 +0000 2020', 'id_str': '1216876262846869504', 'text': 'RT @dcumoviepage: #ReleaseTheSnyderCut'}\n",
      "{'_id': ObjectId('5e1d08316be78d8673599e1e'), 'created_at': 'Tue Jan 14 00:15:41 +0000 2020', 'id_str': '1216876503889326087', 'text': 'RT @InfluxDB: Discover how a new #fluxlang feature that supports months and years as intervals while windowing enables deeper analysis of #…'}\n",
      "{'_id': ObjectId('5e1d083c6be78d8673599e1f'), 'created_at': 'Tue Jan 14 00:15:51 +0000 2020', 'id_str': '1216876547010809856', 'text': '@realDonaldTrump Trump thinks his voters are dumb.\\n\\nhttps://t.co/Av2038b7q3'}\n",
      "{'_id': ObjectId('5e1d083e6be78d8673599e20'), 'created_at': 'Tue Jan 14 00:15:54 +0000 2020', 'id_str': '1216876557538451456', 'text': \"RT @SethAbramson: 25/ Joel Zamel, a man close to the Israeli government—a key player in Flynn's Saudi Nuclear Deal—and a man recommended to…\"}\n",
      "{'_id': ObjectId('5e1d08496be78d8673599e21'), 'created_at': 'Tue Jan 14 00:16:05 +0000 2020', 'id_str': '1216876601830494208', 'text': '@Jhonitrejos @JorgeIvanOspina @lunadavid @kevingomezpaz @SergioMZamoraB @lftroyano Para que sea ciudad inteligente… https://t.co/WlSEnMOapV'}\n",
      "{'_id': ObjectId('5e1d084c6be78d8673599e22'), 'created_at': 'Tue Jan 14 00:16:08 +0000 2020', 'id_str': '1216876616430821377', 'text': 'RT @sicsuper: ¡Proteger tus datos personales es muy importante!\\nEncuentra las recomendaciones que Big Data y la #SICSuper te dejamos aquí 👉…'}\n",
      "{'_id': ObjectId('5e1d08656be78d8673599e23'), 'created_at': 'Tue Jan 14 00:16:33 +0000 2020', 'id_str': '1216876719631556608', 'text': 'RT @CatalogueBack: We interrupt our regular programming of pop culture and anime discussion posts to bring you @Cancelathon something fun I…'}\n",
      "{'_id': ObjectId('5e1d08676be78d8673599e24'), 'created_at': 'Tue Jan 14 00:16:35 +0000 2020', 'id_str': '1216876728389292032', 'text': 'RT @NomadXrp: ⏰  PRICE UPDATE  🚀 \\n\\n⭐️ $XRP $ 0.2132\\n24h -0.56% 📉\\n\\n⭐️ $BTC $ 8128.82\\n24h -0.60% 📉\\n\\n⭐️ $ETH $ 143.88\\n24h -1.67% 📉\\n\\n$xrp #thes…'}\n",
      "{'_id': ObjectId('5e1d08686be78d8673599e25'), 'created_at': 'Tue Jan 14 00:16:36 +0000 2020', 'id_str': '1216876733929938944', 'text': 'BIG KETS ARE STILL KETS 😻😻😻😻'}\n",
      "{'_id': ObjectId('5e1d086a6be78d8673599e26'), 'created_at': 'Tue Jan 14 00:16:38 +0000 2020', 'id_str': '1216876741496582144', 'text': '[Cheat Sheet] Python Basics For Data Science https://t.co/LuZxXxs1dK'}\n",
      "{'_id': ObjectId('5e1d086b6be78d8673599e27'), 'created_at': 'Tue Jan 14 00:16:39 +0000 2020', 'id_str': '1216876745992871936', 'text': 'RT @Justin_Stolpe: Happy Monday! Learning about the Instagram Graph API this week! What are you learning about?\\n.\\n.\\n#instagram #instagramap…'}\n",
      "{'_id': ObjectId('5e1d086c6be78d8673599e28'), 'created_at': 'Tue Jan 14 00:16:39 +0000 2020', 'id_str': '1216876748182257664', 'text': 'RT @davarcar1: @Jhonitrejos @JorgeIvanOspina @lunadavid @kevingomezpaz @SergioMZamoraB @lftroyano Para que sea ciudad inteligente de pasar…'}\n",
      "{'_id': ObjectId('5e1d08746be78d8673599e29'), 'created_at': 'Tue Jan 14 00:16:47 +0000 2020', 'id_str': '1216876781480878080', 'text': '\"They are typically very experienced, having worked on many different projects under a wide variety of circumstance… https://t.co/mWRTfNnRmX'}\n",
      "{'_id': ObjectId('5e1d08776be78d8673599e2a'), 'created_at': 'Tue Jan 14 00:16:51 +0000 2020', 'id_str': '1216876795745751041', 'text': '@iceagereentry @rcsteeb Don’t worry, all is well. 😉 https://t.co/5jxh8gXtTk'}\n",
      "{'_id': ObjectId('5e1d08786be78d8673599e2b'), 'created_at': 'Tue Jan 14 00:16:51 +0000 2020', 'id_str': '1216876798199451648', 'text': 'It \"amazes\" ME how an \"influencer\"  like @MarkDice hasn\\'t TOUCHED UPON the \"blatant\" SYMBOLISM being shown on… https://t.co/WhB32QifGF'}\n",
      "{'_id': ObjectId('5e1d087a6be78d8673599e2c'), 'created_at': 'Tue Jan 14 00:16:54 +0000 2020', 'id_str': '1216876808173432832', 'text': 'RT @neilonsoftware: \"They are typically very experienced, having worked on many different projects under a wide variety of circumstances.\"…'}\n",
      "{'_id': ObjectId('5e1d087b6be78d8673599e2d'), 'created_at': 'Tue Jan 14 00:16:55 +0000 2020', 'id_str': '1216876811906207745', 'text': 'RT @HawkinsTammy: Know #javascript and looking for a new gig in #California? #Blizzard Entertainment is looking for an Associate Software W…'}\n",
      "{'_id': ObjectId('5e1d087c6be78d8673599e2e'), 'created_at': 'Tue Jan 14 00:16:55 +0000 2020', 'id_str': '1216876814187909124', 'text': 'Coffee and code. NodeJs tutorial. Then I will do some ReactJs tutorials.\\n\\nChristmas cat mug FTW! https://t.co/8ATWXMVAqV'}\n",
      "{'_id': ObjectId('5e1d08816be78d8673599e2f'), 'created_at': 'Tue Jan 14 00:17:00 +0000 2020', 'id_str': '1216876836195618817', 'text': 'RT @neilonsoftware: \"They are typically very experienced, having worked on many different projects under a wide variety of circumstances.\"…'}\n",
      "{'_id': ObjectId('5e1d08816be78d8673599e30'), 'created_at': 'Tue Jan 14 00:17:01 +0000 2020', 'id_str': '1216876837185511424', 'text': \"📚 Wiley's Professional JavaScript for Web Developers is an essential guide to next-level ES6 and ES7 JavaScript dev… https://t.co/uyZB7AJ0en\"}\n",
      "{'_id': ObjectId('5e1d08856be78d8673599e31'), 'created_at': 'Tue Jan 14 00:17:05 +0000 2020', 'id_str': '1216876855405490176', 'text': 'With a few commands I can upgrade: sysinternals notepadplusplus googlechrome 7zip firefox SQLSentryPlanExplorer  vi… https://t.co/JkfFZEZPyB'}\n",
      "{'_id': ObjectId('5e1d08876be78d8673599e32'), 'created_at': 'Tue Jan 14 00:17:07 +0000 2020', 'id_str': '1216876864192569345', 'text': 'New #job: Senior Fullstack Dev - JAVA and API Location: Wellington Central .. https://t.co/R8zY2oD9w6 #jobs #hiring'}\n",
      "{'_id': ObjectId('5e1d08886be78d8673599e33'), 'created_at': 'Tue Jan 14 00:17:08 +0000 2020', 'id_str': '1216876866948255745', 'text': 'Feature request: add `base16` default themes, the next evolution of `Tomorrow` themes https://t.co/e99xcYh1aL… https://t.co/ShFLk4a0mj'}\n",
      "{'_id': ObjectId('5e1d088b6be78d8673599e34'), 'created_at': 'Tue Jan 14 00:17:11 +0000 2020', 'id_str': '1216876880080637953', 'text': 'insert baby yoda picture with caption \\n\\n“big kitties”'}\n",
      "{'_id': ObjectId('5e1d088f6be78d8673599e35'), 'created_at': 'Tue Jan 14 00:17:14 +0000 2020', 'id_str': '1216876894664232961', 'text': 'RT @IsTheArchitect: Why #Python is better than #R for #DataScience careers.\\n\\nhttps://t.co/cyTiSBpV4P\\n#dataengineering #bigdata'}\n",
      "{'_id': ObjectId('5e1d08916be78d8673599e36'), 'created_at': 'Tue Jan 14 00:17:17 +0000 2020', 'id_str': '1216876905573634054', 'text': 'RT @thegrugq: Alternative take: knowing Haskell will get you a job delivering pizza, but JavaScript will get you a job at the big 5 https:/…'}\n",
      "{'_id': ObjectId('5e1d08946be78d8673599e37'), 'created_at': 'Tue Jan 14 00:17:20 +0000 2020', 'id_str': '1216876917439238144', 'text': 'RT @Brilliance100: We handle:\\n\\nStatistics online classes\\nPrecalculus\\nAlgebra\\nTrigonometry\\nLinear programming\\nMeasurements\\nData analysis\\nSPS…'}\n",
      "{'_id': ObjectId('5e1d08966be78d8673599e38'), 'created_at': 'Tue Jan 14 00:17:21 +0000 2020', 'id_str': '1216876924657717248', 'text': 'RT @AlRokerEnt: \"We are proud to debut this African American focused channel, created by and for the members of the black community.\" - Jam…'}\n",
      "{'_id': ObjectId('5e1d08966be78d8673599e39'), 'created_at': 'Tue Jan 14 00:17:22 +0000 2020', 'id_str': '1216876926750613505', 'text': 'RT @nep_developer: Day: 08 of #100DaysOfCode \\n-Pause the Tracker App(for a week)\\n-Started a new project Planner that used firebase,\\n\\n------…'}\n",
      "{'_id': ObjectId('5e1d08976be78d8673599e3a'), 'created_at': 'Tue Jan 14 00:17:23 +0000 2020', 'id_str': '1216876930668036097', 'text': \"RT @shog9: Well... I suddenly find myself in need of work. \\nIf anyone's hiring: C++, JavaScript, C#, SQL + solid background in social softw…\"}\n",
      "{'_id': ObjectId('5e1d089a6be78d8673599e3b'), 'created_at': 'Tue Jan 14 00:17:25 +0000 2020', 'id_str': '1216876940537126912', 'text': 'RT @brunoborges: For all maintainers of #Java frameworks and libraries, ping @ashleymcnamara and share your story.\\n\\n// @jtgreene @phillip_w…'}\n",
      "{'_id': ObjectId('5e1d089c6be78d8673599e3c'), 'created_at': 'Tue Jan 14 00:17:28 +0000 2020', 'id_str': '1216876949949308928', 'text': '¡El último Cience, Technology &amp; Programming  Daily! https://t.co/LTH701EPUt Gracias a @CTcard44 @schoolprobIems… https://t.co/CVFHa0My36'}\n",
      "{'_id': ObjectId('5e1d089d6be78d8673599e3d'), 'created_at': 'Tue Jan 14 00:17:29 +0000 2020', 'id_str': '1216876954869256195', 'text': 'New #job: Business Intelligence Analyst Location: Las Vegas .. https://t.co/jXAS0kPEL6 #jobs #hiring'}\n",
      "{'_id': ObjectId('5e1d08a06be78d8673599e3e'), 'created_at': 'Tue Jan 14 00:17:32 +0000 2020', 'id_str': '1216876967628353536', 'text': 'RT @DD_FaFa_: Data Science from Scratch: Comprehensive guide with essential principles of Data Science https://t.co/xgdtkXevAm #DataScience'}\n",
      "{'_id': ObjectId('5e1d08a26be78d8673599e3f'), 'created_at': 'Tue Jan 14 00:17:34 +0000 2020', 'id_str': '1216876976943828993', 'text': 'RT @motherofnodejs: I am not lazy, I just save energy 😑 #programming #coding #programmer #javascript #coder #php #java #programminglife #de…'}\n",
      "{'_id': ObjectId('5e1d08a36be78d8673599e40'), 'created_at': 'Tue Jan 14 00:17:34 +0000 2020', 'id_str': '1216876979254956033', 'text': 'RT @thegrugq: Alternative take: knowing Haskell will get you a job delivering pizza, but JavaScript will get you a job at the big 5'}\n",
      "{'_id': ObjectId('5e1d08a36be78d8673599e41'), 'created_at': 'Tue Jan 14 00:17:35 +0000 2020', 'id_str': '1216876980294967296', 'text': 'FREE Webinar: Tuesday, 21 January 2020, 9 am EST for a review of #compositional #analysis by Handheld #XRF, along w… https://t.co/FvRX3YQDeB'}\n",
      "{'_id': ObjectId('5e1d08a46be78d8673599e42'), 'created_at': 'Tue Jan 14 00:17:35 +0000 2020', 'id_str': '1216876982564278272', 'text': 'RT @neilonsoftware: \"They are typically very experienced, having worked on many different projects under a wide variety of circumstances.\"…'}\n",
      "{'_id': ObjectId('5e1d08a46be78d8673599e43'), 'created_at': 'Tue Jan 14 00:17:36 +0000 2020', 'id_str': '1216876984887906304', 'text': 'RT @susanhash: Leverage #CustomerData to identify opportunities for #proactive #custserv - Jon Christiansen of data science firm Ins &amp; Outs…'}\n",
      "{'_id': ObjectId('5e1d08a46be78d8673599e44'), 'created_at': 'Tue Jan 14 00:17:36 +0000 2020', 'id_str': '1216876985009373184', 'text': 'RT @thegrugq: Alternative take: knowing Haskell will get you a job delivering pizza, but JavaScript will get you a job at the big 5 https:/…'}\n",
      "{'_id': ObjectId('5e1d08a46be78d8673599e45'), 'created_at': 'Tue Jan 14 00:17:36 +0000 2020', 'id_str': '1216876985126776832', 'text': \"RT @h_ingo: TIL there's a Java version for one of the greatest performance diagnostics tools ever, PoorMansProfiler.\"}\n",
      "{'_id': ObjectId('5e1d08a46be78d8673599e46'), 'created_at': 'Tue Jan 14 00:17:36 +0000 2020', 'id_str': '1216876985487523840', 'text': 'RT @lakwatsarah: BIG KETS ARE STILL KETS 😻😻😻😻'}\n",
      "{'_id': ObjectId('5e1d08a66be78d8673599e47'), 'created_at': 'Tue Jan 14 00:17:38 +0000 2020', 'id_str': '1216876994060619776', 'text': 'RT @PriscillaWT: The grandson of House Democratic Whip James Clyburn, D-S.C., has cut a radio ad invoking his grandfather’s legacy and call…'}\n",
      "{'_id': ObjectId('5e1d08a86be78d8673599e48'), 'created_at': 'Tue Jan 14 00:17:40 +0000 2020', 'id_str': '1216877002256539649', 'text': 'RT @ActionableInsi3: [Cheat Sheet] Python Basics For Data Science https://t.co/LuZxXxs1dK'}\n",
      "{'_id': ObjectId('5e1d08a96be78d8673599e49'), 'created_at': 'Tue Jan 14 00:17:40 +0000 2020', 'id_str': '1216877003585884160', 'text': \"RT @chey_cobb: Soooo... \\nWhat's scarier?\\n* Foreign intelligence agencies listening in on you?\\n* Domestic intelligence agencies listening in…\"}\n",
      "{'_id': ObjectId('5e1d08aa6be78d8673599e4a'), 'created_at': 'Tue Jan 14 00:17:41 +0000 2020', 'id_str': '1216877008199856130', 'text': 'I want nothing more than to hug a mf lion. Look at how cute and cuddly this big fluffs are!!!! I can’t handle it 😍😍'}\n",
      "{'_id': ObjectId('5e1d08aa6be78d8673599e4b'), 'created_at': 'Tue Jan 14 00:17:42 +0000 2020', 'id_str': '1216877009193906178', 'text': '☀ Hiring: #Big Data Engineer\\n#AI #Analyst #BigData #Developer #Plano #techjobs #devjobs\\nApply Now &gt;&gt;… https://t.co/f67B6uP1sU'}\n",
      "{'_id': ObjectId('5e1d08ab6be78d8673599e4c'), 'created_at': 'Tue Jan 14 00:17:42 +0000 2020', 'id_str': '1216877012012486659', 'text': 'RT @pdakean: Original study that found relation was retracted for data manipulation. The relation was never there but now epidemics are com…'}\n",
      "{'_id': ObjectId('5e1d08ae6be78d8673599e4d'), 'created_at': 'Tue Jan 14 00:17:46 +0000 2020', 'id_str': '1216877026864484353', 'text': '@PoetWalker We need an independent revival, like French New Wave, maybe. Films not involving enormous corporations… https://t.co/9PUgw6EdsE'}\n",
      "{'_id': ObjectId('5e1d08b06be78d8673599e4e'), 'created_at': 'Tue Jan 14 00:17:48 +0000 2020', 'id_str': '1216877036414914561', 'text': '@EFL_law @KingMeren You are right - in theory this should not be that big of a deal. But you are giving the team mo… https://t.co/Cwn6ojUhX4'}\n",
      "{'_id': ObjectId('5e1d08b16be78d8673599e4f'), 'created_at': 'Tue Jan 14 00:17:49 +0000 2020', 'id_str': '1216877038528868353', 'text': 'Practical Data Science with Hadoop and Spark: Designing and Building Effective Analytics at Scale (Addison-wesley D… https://t.co/zDsJpGTSoI'}\n",
      "{'_id': ObjectId('5e1d08b26be78d8673599e50'), 'created_at': 'Tue Jan 14 00:17:50 +0000 2020', 'id_str': '1216877044623081477', 'text': 'RT @MikelJoachim: Starting a “methods journal club” with grad students &amp; post-docs in @UWBadgerAP to discuss data organization, study desig…'}\n",
      "{'_id': ObjectId('5e1d08b36be78d8673599e51'), 'created_at': 'Tue Jan 14 00:17:50 +0000 2020', 'id_str': '1216877046351220736', 'text': 'RT @nep_developer: Day: 08 of #100DaysOfCode \\n-Pause the Tracker App(for a week)\\n-Started a new project Planner that used firebase,\\n\\n------…'}\n",
      "{'_id': ObjectId('5e1d08b66be78d8673599e52'), 'created_at': 'Tue Jan 14 00:17:54 +0000 2020', 'id_str': '1216877059789742080', 'text': 'RT @NoContextVinny: And we return to your regular programming. https://t.co/N9bbwoYtkp'}\n",
      "{'_id': ObjectId('5e1d08b66be78d8673599e53'), 'created_at': 'Tue Jan 14 00:17:54 +0000 2020', 'id_str': '1216877061152878598', 'text': 'Current standard of discourse on the net: \"I know nothing I write here will change your mind, because you are alrea… https://t.co/OMa09Z0Gz6'}\n",
      "{'_id': ObjectId('5e1d08b76be78d8673599e54'), 'created_at': 'Tue Jan 14 00:17:55 +0000 2020', 'id_str': '1216877065481252867', 'text': 'RT @thegrugq: Alternative take: knowing Haskell will get you a job delivering pizza, but JavaScript will get you a job at the big 5'}\n",
      "{'_id': ObjectId('5e1d08b96be78d8673599e55'), 'created_at': 'Tue Jan 14 00:17:56 +0000 2020', 'id_str': '1216877070594211840', 'text': 'RT @neilonsoftware: \"They are typically very experienced, having worked on many different projects under a wide variety of circumstances.\"…'}\n",
      "{'_id': ObjectId('5e1d08b96be78d8673599e56'), 'created_at': 'Tue Jan 14 00:17:56 +0000 2020', 'id_str': '1216877071177342979', 'text': 'actual footage of me because i have to TA  programming classes tomorrow for a total of 4 hours'}\n",
      "{'_id': ObjectId('5e1d08bd6be78d8673599e57'), 'created_at': 'Tue Jan 14 00:18:01 +0000 2020', 'id_str': '1216877088730439680', 'text': 'Take part in the #SPIE Career Summit, our professional development programming at #PhotonicsWest 2020! \\n\\nCheck out… https://t.co/L1ej80GLtq'}\n",
      "{'_id': ObjectId('5e1d08be6be78d8673599e58'), 'created_at': 'Tue Jan 14 00:17:58 +0000 2020', 'id_str': '1216877076021534720', 'text': '@Mandoline_Blue Those energies, hard coded into our genetic programming, can (not always) find a twisted way out if… https://t.co/TLAJEnJc6h'}\n",
      "{'_id': ObjectId('5e1d08be6be78d8673599e59'), 'created_at': 'Tue Jan 14 00:18:02 +0000 2020', 'id_str': '1216877095667716096', 'text': 'もう火曜日。\\nImperative  programming vs. Declarative :\\n命令型プログラミング vs. 宣言型プログラミング'}\n",
      "{'_id': ObjectId('5e1d08bf6be78d8673599e5a'), 'created_at': 'Tue Jan 14 00:18:02 +0000 2020', 'id_str': '1216877096472940544', 'text': 'Itu csy kalo suatu saat nongol di Java Jazz, gue ga heran'}\n",
      "{'_id': ObjectId('5e1d08c06be78d8673599e5b'), 'created_at': 'Tue Jan 14 00:18:03 +0000 2020', 'id_str': '1216877099937603584', 'text': 'Medical identity theft can leave you with big bills for procedures, treatment and equipment you never asked for or… https://t.co/hikhwEFoPo'}\n",
      "{'_id': ObjectId('5e1d08c26be78d8673599e5c'), 'created_at': 'Tue Jan 14 00:18:06 +0000 2020', 'id_str': '1216877109865537537', 'text': '[Feature] Babel plugin: Add import URL version tag https://t.co/uObz0wNfua #github #JavaScript #TypeScript #CSS #HTML'}\n",
      "{'_id': ObjectId('5e1d08c26be78d8673599e5d'), 'created_at': 'Tue Jan 14 00:18:03 +0000 2020', 'id_str': '1216877097899130880', 'text': 'There are many ways to profit off your health data, which leaves you with a big and sometimes life-threatening mess… https://t.co/nMhkQ793oe'}\n",
      "{'_id': ObjectId('5e1d08c36be78d8673599e5e'), 'created_at': 'Tue Jan 14 00:18:07 +0000 2020', 'id_str': '1216877114709946369', 'text': 'RT @javascriptflx: 30 Free Resources To Help You Learn JavaScript Fundamentals https://t.co/W1C5eXVUkp  #Javascript'}\n",
      "{'_id': ObjectId('5e1d08c36be78d8673599e5f'), 'created_at': 'Tue Jan 14 00:18:07 +0000 2020', 'id_str': '1216877116308033536', 'text': \"Sr DevOps Developer - perm/downtown Toronto - Java/Python/Ruby or C req'd - build software to improve build/release… https://t.co/3qmpVgWt9Q\"}\n",
      "{'_id': ObjectId('5e1d08cd6be78d8673599e60'), 'created_at': 'Tue Jan 14 00:18:17 +0000 2020', 'id_str': '1216877157114437632', 'text': 'Malicious JavaScript package was only active on the npm repository for two weeks. Microsoft spots malicious npm pac… https://t.co/hZHWiiadOh'}\n",
      "{'_id': ObjectId('5e1d08cf6be78d8673599e61'), 'created_at': 'Tue Jan 14 00:18:19 +0000 2020', 'id_str': '1216877166555627520', 'text': 'RT @SevenHillsUlti: We are submitting bids for YCC this summer! For more details or answers to some questions, check out our website: https…'}\n",
      "{'_id': ObjectId('5e1d08d26be78d8673599e62'), 'created_at': 'Tue Jan 14 00:18:21 +0000 2020', 'id_str': '1216877175460200448', 'text': \"RT @juddy_96: Let me put Japan's situation in smash terms. Smash 4 Shulk. Hey he has all this great stuff. Let's give him shit frame data.…\"}\n",
      "{'_id': ObjectId('5e1d08d26be78d8673599e63'), 'created_at': 'Tue Jan 14 00:18:22 +0000 2020', 'id_str': '1216877177062481920', 'text': 'RT @BenjySarlin: A realistic scenario right now:\\n\\n-Trump WH asks courts to end protections for pre-existing conditions\\n\\n-Trump re-elected w…'}\n",
      "{'_id': ObjectId('5e1d08d26be78d8673599e64'), 'created_at': 'Tue Jan 14 00:18:22 +0000 2020', 'id_str': '1216877178580803584', 'text': \"RT @Brilliance100: We'll give you A's in your classes. Pay us for\\n#essay\\n#homework\\n#assignment\\n#discussion\\n#code Java PHP C#\\n#Programming p…\"}\n",
      "{'_id': ObjectId('5e1d08d36be78d8673599e65'), 'created_at': 'Tue Jan 14 00:18:22 +0000 2020', 'id_str': '1216877179658698752', 'text': 'RT @sicsuper: ¡Proteger tus datos personales es muy importante!\\nEncuentra las recomendaciones que Big Data y la #SICSuper te dejamos aquí 👉…'}\n",
      "{'_id': ObjectId('5e1d08d66be78d8673599e66'), 'created_at': 'Tue Jan 14 00:18:25 +0000 2020', 'id_str': '1216877192744849408', 'text': 'We back to regular programming boiiiis'}\n",
      "{'_id': ObjectId('5e1d08d86be78d8673599e67'), 'created_at': 'Tue Jan 14 00:18:27 +0000 2020', 'id_str': '1216877200940683265', 'text': \"RT @Cawfree: Here's the Boston Housing dataset for training #regression networks in #tensorflow #NeuralNetworks in #javascript.\\n\\nhttps://t.…\"}\n",
      "{'_id': ObjectId('5e1d08d96be78d8673599e68'), 'created_at': 'Tue Jan 14 00:18:28 +0000 2020', 'id_str': '1216877205730426881', 'text': 'RT @nytimesworld: “There aren’t that many things that are quintessentially Canadian, but skating is one of them,” said a university profess…'}\n",
      "{'_id': ObjectId('5e1d08de6be78d8673599e69'), 'created_at': 'Tue Jan 14 00:18:34 +0000 2020', 'id_str': '1216877226819489792', 'text': 'What to Pay #JavaScript #Developers in 2020 via https://t.co/prqxSCAEJ8 https://t.co/3nNlRg8PQK'}\n",
      "{'_id': ObjectId('5e1d08df6be78d8673599e6a'), 'created_at': 'Tue Jan 14 00:18:35 +0000 2020', 'id_str': '1216877233584865281', 'text': '@msRachel9 As soon as we have programming news we’ll announce it here 😘'}\n",
      "{'_id': ObjectId('5e1d08e36be78d8673599e6b'), 'created_at': 'Tue Jan 14 00:18:39 +0000 2020', 'id_str': '1216877249686855680', 'text': \"My father just discovered that Steven Seagal was a real cop. Well he discovered Steven Seagal Law Man.\\n\\nThat's what… https://t.co/B1BMeIi25n\"}\n",
      "{'_id': ObjectId('5e1d08e66be78d8673599e6c'), 'created_at': 'Tue Jan 14 00:18:42 +0000 2020', 'id_str': '1216877261749735424', 'text': 'RT @RiverVanRain: What to Pay #JavaScript #Developers in 2020 via https://t.co/prqxSCAEJ8 https://t.co/3nNlRg8PQK'}\n",
      "{'_id': ObjectId('5e1d08e66be78d8673599e6d'), 'created_at': 'Tue Jan 14 00:18:42 +0000 2020', 'id_str': '1216877262848581632', 'text': 'RT @MauraAlwyen: Science has just as many false prophets as religion and American politics does. Data, the Scriptures, and the Constitution…'}\n",
      "{'_id': ObjectId('5e1d08ee6be78d8673599e6e'), 'created_at': 'Tue Jan 14 00:18:49 +0000 2020', 'id_str': '1216877293773238272', 'text': 'RT @MattKresslein: Join us for the SOKY Robot Royale on Feb. 26th @GRRECKY!  EV3 &amp; Sphero Competitions, Drone Programming/Flying, @Scribit_…'}\n",
      "{'_id': ObjectId('5e1d08ee6be78d8673599e6f'), 'created_at': 'Tue Jan 14 00:18:50 +0000 2020', 'id_str': '1216877295765311489', 'text': 'RT @WjgotINrU14Z1fB: Javaで3年くらいやると、他言語の実業務に参加可能になるやつが増えてくる。\\n\\nなんでJavaだとそうなのかはわからないが、お堅い言語であるが故、信用されてる部分があるっぽい。\\n\\n実際のところ、言語転換の際に現場で困った話も聞かない。…'}\n",
      "{'_id': ObjectId('5e1d08ee6be78d8673599e70'), 'created_at': 'Tue Jan 14 00:18:50 +0000 2020', 'id_str': '1216877296461795329', 'text': 'RT @Gurgling_MrD: Malicious JavaScript package was only active on the npm repository for two weeks. Microsoft spots malicious npm package s…'}\n",
      "{'_id': ObjectId('5e1d08f06be78d8673599e71'), 'created_at': 'Tue Jan 14 00:18:52 +0000 2020', 'id_str': '1216877302845304832', 'text': \"RT @JamesFourM: @dark_wisdom_ @b_ofrights @TrickFreee @dcpoll @ninaandtito @3L3V3NTH @CORLEBRA777 Hey bruh. Let's not forget Bob Dole ➡️ Ma…\"}\n",
      "{'_id': ObjectId('5e1d08f16be78d8673599e72'), 'created_at': 'Tue Jan 14 00:18:53 +0000 2020', 'id_str': '1216877308386185216', 'text': 'RT @platzi: 📚 Seis Libros para mejorar tu conocimiento de Data Science 👇\\n#NuncaParesDeAprender\\nhttps://t.co/569j3rREx0 https://t.co/69KqUNy…'}\n",
      "{'_id': ObjectId('5e1d08f16be78d8673599e73'), 'created_at': 'Tue Jan 14 00:18:53 +0000 2020', 'id_str': '1216877308491051009', 'text': 'Applied for college and university today, mainly computer programming for Colledge and a English major for universi… https://t.co/WhrU7gq7Q9'}\n",
      "{'_id': ObjectId('5e1d08f66be78d8673599e74'), 'created_at': 'Tue Jan 14 00:18:58 +0000 2020', 'id_str': '1216877328266981376', 'text': 'RT @JamesFourM: @CORLEBRA777\\n@ninaandtito\\n\\nFounder &amp; pres of Grassroots Targeting worked for Bob &amp; Elizabeth Dole &amp; as  adviser to Reince P…'}\n",
      "{'_id': ObjectId('5e1d08f86be78d8673599e75'), 'created_at': 'Tue Jan 14 00:19:00 +0000 2020', 'id_str': '1216877337070850048', 'text': \"RT @sarah_edo: 🎉 If you're interested in learning how to animate on the web with JavaScript, I wrote up a post on how to animate with @gree…\"}\n",
      "{'_id': ObjectId('5e1d08fb6be78d8673599e76'), 'created_at': 'Tue Jan 14 00:19:02 +0000 2020', 'id_str': '1216877347292532736', 'text': 'RT @RobotMakerGirl: The first part of the “thing” is officially built and tested. Now on to the programming stage! Then the woodworking sta…'}\n",
      "{'_id': ObjectId('5e1d08fb6be78d8673599e77'), 'created_at': 'Tue Jan 14 00:19:02 +0000 2020', 'id_str': '1216877347535826946', 'text': 'Moderated a data science panel yesterday\\n当我准备总结一个数据科学研讨环节时，问三位嘉宾：假如，您公司现在就开始没有数据，您的业务将会怎样？他们那惊讶的神情，告诉了我们数据对业务发展的重要性… https://t.co/JXnU7igBRD'}\n",
      "{'_id': ObjectId('5e1d08fe6be78d8673599e78'), 'created_at': 'Tue Jan 14 00:19:06 +0000 2020', 'id_str': '1216877361842544641', 'text': 'Hi, I can do the class for you\\nDM or Email✉ EssayNerd7@gmail.com \\n\\nGuarantees:\\n✴an A+ Grade√√\\n✴Timely Completion ⏱… https://t.co/UBs4lIMgBG'}\n",
      "{'_id': ObjectId('5e1d09016be78d8673599e79'), 'created_at': 'Tue Jan 14 00:19:08 +0000 2020', 'id_str': '1216877373045473280', 'text': 'For some reason remembering languages/tools I’ve developed in I haven’t heard much about in years.\\n#Powerbuilder,… https://t.co/CcYD8Ux1pX'}\n",
      "{'_id': ObjectId('5e1d09016be78d8673599e7a'), 'created_at': 'Tue Jan 14 00:19:09 +0000 2020', 'id_str': '1216877373586624514', 'text': 'RT @thegrugq: Alternative take: knowing Haskell will get you a job delivering pizza, but JavaScript will get you a job at the big 5 https:/…'}\n",
      "{'_id': ObjectId('5e1d09016be78d8673599e7b'), 'created_at': 'Tue Jan 14 00:19:09 +0000 2020', 'id_str': '1216877375968989184', 'text': 'Gina Carano in a suit.....thats is all, we will now go back to your regularly scheduled programming #thisistheway https://t.co/QIC4xdsuhv'}\n",
      "{'_id': ObjectId('5e1d09026be78d8673599e7c'), 'created_at': 'Tue Jan 14 00:19:10 +0000 2020', 'id_str': '1216877378330218496', 'text': 'RT @spring_io: First milestone of Spring Boot 2.3 will be released this Thursday and will GA two weeks before Spring I/O.\\n\\nDon’t miss out a…'}\n",
      "{'_id': ObjectId('5e1d09046be78d8673599e7d'), 'created_at': 'Tue Jan 14 00:19:11 +0000 2020', 'id_str': '1216877385930432512', 'text': 'RT @genentech: Heading to #JPM20? Download S3E05 of our #podcast and find out more about the role of big data in #PersonalizedMedicine from…'}\n",
      "{'_id': ObjectId('5e1d09046be78d8673599e7e'), 'created_at': 'Tue Jan 14 00:19:12 +0000 2020', 'id_str': '1216877387318616064', 'text': 'おはようございます☀\\n\\n#今日の積み上げ  予定\\n✅#30DAYSトライアル 2nd Day3\\n\\n引き続きJavaScriptの学習です🏃\\u200d♂️\\n\\n通勤往復中にProgateアプリ版→帰宅後パソコン版の流れ最強だったので本日も同じスタイルでいきます💪\\n\\n#駆け出しエンジニア'}\n",
      "{'_id': ObjectId('5e1d09046be78d8673599e7f'), 'created_at': 'Tue Jan 14 00:19:12 +0000 2020', 'id_str': '1216877388753264641', 'text': 'RT @PVNCCDSB: As a result of a planned one-day full withdrawal of service by our teachers on Tuesday, Jan. 21, 2020, the Board will be clos…'}\n",
      "{'_id': ObjectId('5e1d09086be78d8673599e80'), 'created_at': 'Tue Jan 14 00:19:15 +0000 2020', 'id_str': '1216877401822466048', 'text': 'Tapos na event so wala na akong ipopost na annoucements and shiz I am back to regular programming welcome to my kal… https://t.co/NGsR2RSEtm'}\n",
      "{'_id': ObjectId('5e1d09086be78d8673599e81'), 'created_at': 'Tue Jan 14 00:19:16 +0000 2020', 'id_str': '1216877404041379847', 'text': 'RT @platzi: 📚 Seis Libros para mejorar tu conocimiento de Data Science 👇\\n#NuncaParesDeAprender\\nhttps://t.co/569j3rREx0 https://t.co/69KqUNy…'}\n",
      "{'_id': ObjectId('5e1d09096be78d8673599e82'), 'created_at': 'Tue Jan 14 00:19:17 +0000 2020', 'id_str': '1216877408147533824', 'text': 'RT @strnr: Eleven tips for working with big data https://t.co/KrdaN4gxSh\\nKeep raw data raw\\nViz\\nRecord workflow\\nUse version ctrl\\nRecord meta…'}\n",
      "{'_id': ObjectId('5e1d09096be78d8673599e83'), 'created_at': 'Tue Jan 14 00:19:17 +0000 2020', 'id_str': '1216877408718028800', 'text': '@AnimalDefenceBZ @DataCassette Please enforce the law against dog and wild boar fighting! Plz sign: https://t.co/n3pdX3hOP8'}\n",
      "{'_id': ObjectId('5e1d090d6be78d8673599e84'), 'created_at': 'Tue Jan 14 00:19:20 +0000 2020', 'id_str': '1216877423142297600', 'text': 'Rock it: A Cradle Story — An Arduino-powered Baby Crib Rocker\\n\\n☞ https://t.co/jrrPvUwrGv\\n\\n#arduino #programming https://t.co/niOfINyVkE'}\n",
      "{'_id': ObjectId('5e1d090e6be78d8673599e85'), 'created_at': 'Tue Jan 14 00:19:22 +0000 2020', 'id_str': '1216877428603117568', 'text': 'RT @xximbecile: Bullshit. I was born in Madiun, live most of my youth without internet because my family is poor. And I know I read a lot.…'}\n",
      "{'_id': ObjectId('5e1d09106be78d8673599e86'), 'created_at': 'Tue Jan 14 00:19:24 +0000 2020', 'id_str': '1216877436916379652', 'text': 'RT @sethrosen: Just converted to @webflow after years of preaching squarespace. Wow - just wow. \\n\\nI truly see why *this* is called no-code.…'}\n",
      "{'_id': ObjectId('5e1d09106be78d8673599e87'), 'created_at': 'Tue Jan 14 00:19:24 +0000 2020', 'id_str': '1216877437570543618', 'text': \"@SimonJo37129961 @Rectitude20 On the contrary, you're not appealing to the science &amp; data because epidemiological s… https://t.co/sqR3pkPIeR\"}\n",
      "{'_id': ObjectId('5e1d09126be78d8673599e88'), 'created_at': 'Tue Jan 14 00:19:26 +0000 2020', 'id_str': '1216877445447438336', 'text': \"Always the best bang for your buck of any pod out there, thank you guys. Y'all gotta check them out… https://t.co/gwg4EZKx58\"}\n",
      "{'_id': ObjectId('5e1d09156be78d8673599e89'), 'created_at': 'Tue Jan 14 00:19:29 +0000 2020', 'id_str': '1216877458613587976', 'text': 'RT @bass_analytics: An Effective Python Environment: Making Yourself at Home\\n@realpython #Python #programming #coding\\nhttps://t.co/jMkY3xyU…'}\n",
      "{'_id': ObjectId('5e1d09166be78d8673599e8a'), 'created_at': 'Tue Jan 14 00:19:30 +0000 2020', 'id_str': '1216877463633969152', 'text': 'RT @thegrugq: Alternative take: knowing Haskell will get you a job delivering pizza, but JavaScript will get you a job at the big 5 https:/…'}\n",
      "{'_id': ObjectId('5e1d09186be78d8673599e8b'), 'created_at': 'Tue Jan 14 00:19:31 +0000 2020', 'id_str': '1216877469652914176', 'text': 'Acquista il libro \"Big Data, WebFare e Reddito per tutti. Quaderni per il Reddito n°9\". Sostieni il BIN Italia - BI… https://t.co/R55bbOsxa3'}\n",
      "{'_id': ObjectId('5e1d09196be78d8673599e8c'), 'created_at': 'Tue Jan 14 00:19:33 +0000 2020', 'id_str': '1216877475239616513', 'text': 'RT @MajoLedes: ✨Dejo esto por aquí.. \\n\\nHice un apunte de 24 páginas sobre conceptos principales de ReactJS🙈\\n\\nPueden ver el apunte completo…'}\n",
      "{'_id': ObjectId('5e1d091a6be78d8673599e8d'), 'created_at': 'Tue Jan 14 00:19:33 +0000 2020', 'id_str': '1216877477403840512', 'text': 'RT @iowahawkblog: fun fact: this advanced state-of-the are artificial intelligence powered big data pizza thinkbot system was invented by T…'}\n",
      "{'_id': ObjectId('5e1d091b6be78d8673599e8e'), 'created_at': 'Tue Jan 14 00:19:35 +0000 2020', 'id_str': '1216877483796107267', 'text': 'RT @javascriptflx: Hermes: A new open source JavaScript engine optimized for mobile apps https://t.co/Zn7Zed8SkV  #Javascript'}\n",
      "{'_id': ObjectId('5e1d09216be78d8673599e8f'), 'created_at': 'Tue Jan 14 00:19:40 +0000 2020', 'id_str': '1216877507754020866', 'text': \"RT @parscale: Big data from Toledo:\\n\\n✅ 22,927 Voters Identified\\n\\n✅ 18,210 Voters From Ohio\\n\\n✅ 5,216 Registrants Didn't Vote in 2016\\n\\n✅ 21.9…\"}\n",
      "{'_id': ObjectId('5e1d09216be78d8673599e90'), 'created_at': 'Tue Jan 14 00:19:41 +0000 2020', 'id_str': '1216877508559343625', 'text': 'Big 5 Sporting Goods $BGFV Anticipates Fiscal 2019 Fourth Quarter EPS to Exceed High End of Prior Guidance Range… https://t.co/fCTX0sWhon'}\n",
      "{'_id': ObjectId('5e1d09226be78d8673599e91'), 'created_at': 'Tue Jan 14 00:19:42 +0000 2020', 'id_str': '1216877514049695752', 'text': 'RT @Arthur81288011: @A_Chapman101 @Jack62084141 Clear @HMRCgovuk must NOT be given new powers to automate processes that could cause distre…'}\n",
      "{'_id': ObjectId('5e1d09266be78d8673599e92'), 'created_at': 'Tue Jan 14 00:19:46 +0000 2020', 'id_str': '1216877530222743553', 'text': '@RandallKopchak @OptimistPanda The problem (if you can call it that) was that DS9 was way ahead of its time in term… https://t.co/y2UI7XQjYm'}\n",
      "{'_id': ObjectId('5e1d092b6be78d8673599e93'), 'created_at': 'Tue Jan 14 00:19:51 +0000 2020', 'id_str': '1216877549860663296', 'text': 'This thing is only growing. Excited to see what Gatsby will be like even 5 years from now.'}\n",
      "{'_id': ObjectId('5e1d092c6be78d8673599e94'), 'created_at': 'Tue Jan 14 00:19:52 +0000 2020', 'id_str': '1216877555946414081', 'text': \"2.  but oh well, it's cool data science!\"}\n",
      "{'_id': ObjectId('5e1d092e6be78d8673599e95'), 'created_at': 'Tue Jan 14 00:19:53 +0000 2020', 'id_str': '1216877561839484929', 'text': 'RT @KinarmLab: Kinarm Camp registration is now open!  Come join us June 8-12th in beautiful #ygk for a week of intensive #kinarm programmin…'}\n",
      "{'_id': ObjectId('5e1d09306be78d8673599e96'), 'created_at': 'Tue Jan 14 00:19:56 +0000 2020', 'id_str': '1216877570819600389', 'text': 'RT @ElemTeachersTO: The #TDSB has cut $13 million dollars of French programming and is planning to eliminate Extended French starting next…'}\n",
      "{'_id': ObjectId('5e1d09306be78d8673599e97'), 'created_at': 'Tue Jan 14 00:19:56 +0000 2020', 'id_str': '1216877570978803712', 'text': 'RT @byLilyV: FEATURED #COURSES\\n\\nThe #Data #Science #Course 2019: Complete Data Science Bootcamp\\n\\nBest Seller 144,730 students enrolled\\n\\nCom…'}\n",
      "{'_id': ObjectId('5e1d09346be78d8673599e98'), 'created_at': 'Tue Jan 14 00:20:00 +0000 2020', 'id_str': '1216877588385271808', 'text': 'How to pack #Angular 8 applications on regular war files https://t.co/t1AXyA1wD1 #javascript #typescript #frontend #webdev'}\n",
      "{'_id': ObjectId('5e1d09346be78d8673599e99'), 'created_at': 'Tue Jan 14 00:20:00 +0000 2020', 'id_str': '1216877589110951936', 'text': 'CoStar Group (@TheCoStarGroup) is hiring https://t.co/cWm6u5KE5o #reactjs #angularjs'}\n",
      "{'_id': ObjectId('5e1d09376be78d8673599e9a'), 'created_at': 'Tue Jan 14 00:20:02 +0000 2020', 'id_str': '1216877599143665669', 'text': 'RT @NexWebSites: #Programming\\n👇\\nVisual Studio @code Keyboard Board Shortcuts for:\\n \\n👉Windows : PDF🔗: https://t.co/xxPqHUMjS3\\n 👉#Linux : PDF…'}\n",
      "{'_id': ObjectId('5e1d09376be78d8673599e9b'), 'created_at': 'Tue Jan 14 00:20:03 +0000 2020', 'id_str': '1216877600955621377', 'text': 'Everyone has his or her own way of analyzing data to find the right answers. This is why self-service in a business… https://t.co/264klNDvA1'}\n",
      "{'_id': ObjectId('5e1d093d6be78d8673599e9c'), 'created_at': 'Tue Jan 14 00:20:09 +0000 2020', 'id_str': '1216877627937579011', 'text': 'RT @Payara_Fish: JavaFX Strikes Back - Latest #Airhacks podcast from @AdamBien\\nCatching up with Gluons @johanvos, talking about advantages…'}\n",
      "{'_id': ObjectId('5e1d09426be78d8673599e9d'), 'created_at': 'Tue Jan 14 00:20:13 +0000 2020', 'id_str': '1216877645977325569', 'text': '32 Tips For Every #WebDeveloper In 2020 #BetterProgramming via https://t.co/Q6JBQhnTTy https://t.co/3hwgAJhmSs'}\n"
     ]
    }
   ],
   "source": [
    "for i in colecao.find():\n",
    "    print(i)"
   ]
  },
  {
   "cell_type": "markdown",
   "metadata": {},
   "source": [
    "### 03 - Importando e analisando dados com Pandas e Scikit Learn"
   ]
  },
  {
   "cell_type": "code",
   "execution_count": 268,
   "metadata": {},
   "outputs": [
    {
     "data": {
      "text/plain": [
       "[{'created_at': 'Tue Jan 14 00:14:44 +0000 2020',\n",
       "  'text': 'RT @dcumoviepage: #ReleaseTheSnyderCut'},\n",
       " {'created_at': 'Tue Jan 14 00:15:41 +0000 2020',\n",
       "  'text': 'RT @InfluxDB: Discover how a new #fluxlang feature that supports months and years as intervals while windowing enables deeper analysis of #…'},\n",
       " {'created_at': 'Tue Jan 14 00:15:51 +0000 2020',\n",
       "  'text': '@realDonaldTrump Trump thinks his voters are dumb.\\n\\nhttps://t.co/Av2038b7q3'},\n",
       " {'created_at': 'Tue Jan 14 00:15:54 +0000 2020',\n",
       "  'text': \"RT @SethAbramson: 25/ Joel Zamel, a man close to the Israeli government—a key player in Flynn's Saudi Nuclear Deal—and a man recommended to…\"},\n",
       " {'created_at': 'Tue Jan 14 00:16:05 +0000 2020',\n",
       "  'text': '@Jhonitrejos @JorgeIvanOspina @lunadavid @kevingomezpaz @SergioMZamoraB @lftroyano Para que sea ciudad inteligente… https://t.co/WlSEnMOapV'},\n",
       " {'created_at': 'Tue Jan 14 00:16:08 +0000 2020',\n",
       "  'text': 'RT @sicsuper: ¡Proteger tus datos personales es muy importante!\\nEncuentra las recomendaciones que Big Data y la #SICSuper te dejamos aquí 👉…'},\n",
       " {'created_at': 'Tue Jan 14 00:16:33 +0000 2020',\n",
       "  'text': 'RT @CatalogueBack: We interrupt our regular programming of pop culture and anime discussion posts to bring you @Cancelathon something fun I…'},\n",
       " {'created_at': 'Tue Jan 14 00:16:35 +0000 2020',\n",
       "  'text': 'RT @NomadXrp: ⏰  PRICE UPDATE  🚀 \\n\\n⭐️ $XRP $ 0.2132\\n24h -0.56% 📉\\n\\n⭐️ $BTC $ 8128.82\\n24h -0.60% 📉\\n\\n⭐️ $ETH $ 143.88\\n24h -1.67% 📉\\n\\n$xrp #thes…'},\n",
       " {'created_at': 'Tue Jan 14 00:16:36 +0000 2020',\n",
       "  'text': 'BIG KETS ARE STILL KETS 😻😻😻😻'},\n",
       " {'created_at': 'Tue Jan 14 00:16:38 +0000 2020',\n",
       "  'text': '[Cheat Sheet] Python Basics For Data Science https://t.co/LuZxXxs1dK'},\n",
       " {'created_at': 'Tue Jan 14 00:16:39 +0000 2020',\n",
       "  'text': 'RT @Justin_Stolpe: Happy Monday! Learning about the Instagram Graph API this week! What are you learning about?\\n.\\n.\\n#instagram #instagramap…'},\n",
       " {'created_at': 'Tue Jan 14 00:16:39 +0000 2020',\n",
       "  'text': 'RT @davarcar1: @Jhonitrejos @JorgeIvanOspina @lunadavid @kevingomezpaz @SergioMZamoraB @lftroyano Para que sea ciudad inteligente de pasar…'},\n",
       " {'created_at': 'Tue Jan 14 00:16:47 +0000 2020',\n",
       "  'text': '\"They are typically very experienced, having worked on many different projects under a wide variety of circumstance… https://t.co/mWRTfNnRmX'},\n",
       " {'created_at': 'Tue Jan 14 00:16:51 +0000 2020',\n",
       "  'text': '@iceagereentry @rcsteeb Don’t worry, all is well. 😉 https://t.co/5jxh8gXtTk'},\n",
       " {'created_at': 'Tue Jan 14 00:16:51 +0000 2020',\n",
       "  'text': 'It \"amazes\" ME how an \"influencer\"  like @MarkDice hasn\\'t TOUCHED UPON the \"blatant\" SYMBOLISM being shown on… https://t.co/WhB32QifGF'},\n",
       " {'created_at': 'Tue Jan 14 00:16:54 +0000 2020',\n",
       "  'text': 'RT @neilonsoftware: \"They are typically very experienced, having worked on many different projects under a wide variety of circumstances.\"…'},\n",
       " {'created_at': 'Tue Jan 14 00:16:55 +0000 2020',\n",
       "  'text': 'RT @HawkinsTammy: Know #javascript and looking for a new gig in #California? #Blizzard Entertainment is looking for an Associate Software W…'},\n",
       " {'created_at': 'Tue Jan 14 00:16:55 +0000 2020',\n",
       "  'text': 'Coffee and code. NodeJs tutorial. Then I will do some ReactJs tutorials.\\n\\nChristmas cat mug FTW! https://t.co/8ATWXMVAqV'},\n",
       " {'created_at': 'Tue Jan 14 00:17:00 +0000 2020',\n",
       "  'text': 'RT @neilonsoftware: \"They are typically very experienced, having worked on many different projects under a wide variety of circumstances.\"…'},\n",
       " {'created_at': 'Tue Jan 14 00:17:01 +0000 2020',\n",
       "  'text': \"📚 Wiley's Professional JavaScript for Web Developers is an essential guide to next-level ES6 and ES7 JavaScript dev… https://t.co/uyZB7AJ0en\"},\n",
       " {'created_at': 'Tue Jan 14 00:17:05 +0000 2020',\n",
       "  'text': 'With a few commands I can upgrade: sysinternals notepadplusplus googlechrome 7zip firefox SQLSentryPlanExplorer  vi… https://t.co/JkfFZEZPyB'},\n",
       " {'created_at': 'Tue Jan 14 00:17:07 +0000 2020',\n",
       "  'text': 'New #job: Senior Fullstack Dev - JAVA and API Location: Wellington Central .. https://t.co/R8zY2oD9w6 #jobs #hiring'},\n",
       " {'created_at': 'Tue Jan 14 00:17:08 +0000 2020',\n",
       "  'text': 'Feature request: add `base16` default themes, the next evolution of `Tomorrow` themes https://t.co/e99xcYh1aL… https://t.co/ShFLk4a0mj'},\n",
       " {'created_at': 'Tue Jan 14 00:17:11 +0000 2020',\n",
       "  'text': 'insert baby yoda picture with caption \\n\\n“big kitties”'},\n",
       " {'created_at': 'Tue Jan 14 00:17:14 +0000 2020',\n",
       "  'text': 'RT @IsTheArchitect: Why #Python is better than #R for #DataScience careers.\\n\\nhttps://t.co/cyTiSBpV4P\\n#dataengineering #bigdata'},\n",
       " {'created_at': 'Tue Jan 14 00:17:17 +0000 2020',\n",
       "  'text': 'RT @thegrugq: Alternative take: knowing Haskell will get you a job delivering pizza, but JavaScript will get you a job at the big 5 https:/…'},\n",
       " {'created_at': 'Tue Jan 14 00:17:20 +0000 2020',\n",
       "  'text': 'RT @Brilliance100: We handle:\\n\\nStatistics online classes\\nPrecalculus\\nAlgebra\\nTrigonometry\\nLinear programming\\nMeasurements\\nData analysis\\nSPS…'},\n",
       " {'created_at': 'Tue Jan 14 00:17:21 +0000 2020',\n",
       "  'text': 'RT @AlRokerEnt: \"We are proud to debut this African American focused channel, created by and for the members of the black community.\" - Jam…'},\n",
       " {'created_at': 'Tue Jan 14 00:17:22 +0000 2020',\n",
       "  'text': 'RT @nep_developer: Day: 08 of #100DaysOfCode \\n-Pause the Tracker App(for a week)\\n-Started a new project Planner that used firebase,\\n\\n------…'},\n",
       " {'created_at': 'Tue Jan 14 00:17:23 +0000 2020',\n",
       "  'text': \"RT @shog9: Well... I suddenly find myself in need of work. \\nIf anyone's hiring: C++, JavaScript, C#, SQL + solid background in social softw…\"},\n",
       " {'created_at': 'Tue Jan 14 00:17:25 +0000 2020',\n",
       "  'text': 'RT @brunoborges: For all maintainers of #Java frameworks and libraries, ping @ashleymcnamara and share your story.\\n\\n// @jtgreene @phillip_w…'},\n",
       " {'created_at': 'Tue Jan 14 00:17:28 +0000 2020',\n",
       "  'text': '¡El último Cience, Technology &amp; Programming  Daily! https://t.co/LTH701EPUt Gracias a @CTcard44 @schoolprobIems… https://t.co/CVFHa0My36'},\n",
       " {'created_at': 'Tue Jan 14 00:17:29 +0000 2020',\n",
       "  'text': 'New #job: Business Intelligence Analyst Location: Las Vegas .. https://t.co/jXAS0kPEL6 #jobs #hiring'},\n",
       " {'created_at': 'Tue Jan 14 00:17:32 +0000 2020',\n",
       "  'text': 'RT @DD_FaFa_: Data Science from Scratch: Comprehensive guide with essential principles of Data Science https://t.co/xgdtkXevAm #DataScience'},\n",
       " {'created_at': 'Tue Jan 14 00:17:34 +0000 2020',\n",
       "  'text': 'RT @motherofnodejs: I am not lazy, I just save energy 😑 #programming #coding #programmer #javascript #coder #php #java #programminglife #de…'},\n",
       " {'created_at': 'Tue Jan 14 00:17:34 +0000 2020',\n",
       "  'text': 'RT @thegrugq: Alternative take: knowing Haskell will get you a job delivering pizza, but JavaScript will get you a job at the big 5'},\n",
       " {'created_at': 'Tue Jan 14 00:17:35 +0000 2020',\n",
       "  'text': 'FREE Webinar: Tuesday, 21 January 2020, 9 am EST for a review of #compositional #analysis by Handheld #XRF, along w… https://t.co/FvRX3YQDeB'},\n",
       " {'created_at': 'Tue Jan 14 00:17:35 +0000 2020',\n",
       "  'text': 'RT @neilonsoftware: \"They are typically very experienced, having worked on many different projects under a wide variety of circumstances.\"…'},\n",
       " {'created_at': 'Tue Jan 14 00:17:36 +0000 2020',\n",
       "  'text': 'RT @susanhash: Leverage #CustomerData to identify opportunities for #proactive #custserv - Jon Christiansen of data science firm Ins &amp; Outs…'},\n",
       " {'created_at': 'Tue Jan 14 00:17:36 +0000 2020',\n",
       "  'text': 'RT @thegrugq: Alternative take: knowing Haskell will get you a job delivering pizza, but JavaScript will get you a job at the big 5 https:/…'},\n",
       " {'created_at': 'Tue Jan 14 00:17:36 +0000 2020',\n",
       "  'text': \"RT @h_ingo: TIL there's a Java version for one of the greatest performance diagnostics tools ever, PoorMansProfiler.\"},\n",
       " {'created_at': 'Tue Jan 14 00:17:36 +0000 2020',\n",
       "  'text': 'RT @lakwatsarah: BIG KETS ARE STILL KETS 😻😻😻😻'},\n",
       " {'created_at': 'Tue Jan 14 00:17:38 +0000 2020',\n",
       "  'text': 'RT @PriscillaWT: The grandson of House Democratic Whip James Clyburn, D-S.C., has cut a radio ad invoking his grandfather’s legacy and call…'},\n",
       " {'created_at': 'Tue Jan 14 00:17:40 +0000 2020',\n",
       "  'text': 'RT @ActionableInsi3: [Cheat Sheet] Python Basics For Data Science https://t.co/LuZxXxs1dK'},\n",
       " {'created_at': 'Tue Jan 14 00:17:40 +0000 2020',\n",
       "  'text': \"RT @chey_cobb: Soooo... \\nWhat's scarier?\\n* Foreign intelligence agencies listening in on you?\\n* Domestic intelligence agencies listening in…\"},\n",
       " {'created_at': 'Tue Jan 14 00:17:41 +0000 2020',\n",
       "  'text': 'I want nothing more than to hug a mf lion. Look at how cute and cuddly this big fluffs are!!!! I can’t handle it 😍😍'},\n",
       " {'created_at': 'Tue Jan 14 00:17:42 +0000 2020',\n",
       "  'text': '☀ Hiring: #Big Data Engineer\\n#AI #Analyst #BigData #Developer #Plano #techjobs #devjobs\\nApply Now &gt;&gt;… https://t.co/f67B6uP1sU'},\n",
       " {'created_at': 'Tue Jan 14 00:17:42 +0000 2020',\n",
       "  'text': 'RT @pdakean: Original study that found relation was retracted for data manipulation. The relation was never there but now epidemics are com…'},\n",
       " {'created_at': 'Tue Jan 14 00:17:46 +0000 2020',\n",
       "  'text': '@PoetWalker We need an independent revival, like French New Wave, maybe. Films not involving enormous corporations… https://t.co/9PUgw6EdsE'},\n",
       " {'created_at': 'Tue Jan 14 00:17:48 +0000 2020',\n",
       "  'text': '@EFL_law @KingMeren You are right - in theory this should not be that big of a deal. But you are giving the team mo… https://t.co/Cwn6ojUhX4'},\n",
       " {'created_at': 'Tue Jan 14 00:17:49 +0000 2020',\n",
       "  'text': 'Practical Data Science with Hadoop and Spark: Designing and Building Effective Analytics at Scale (Addison-wesley D… https://t.co/zDsJpGTSoI'},\n",
       " {'created_at': 'Tue Jan 14 00:17:50 +0000 2020',\n",
       "  'text': 'RT @MikelJoachim: Starting a “methods journal club” with grad students &amp; post-docs in @UWBadgerAP to discuss data organization, study desig…'},\n",
       " {'created_at': 'Tue Jan 14 00:17:50 +0000 2020',\n",
       "  'text': 'RT @nep_developer: Day: 08 of #100DaysOfCode \\n-Pause the Tracker App(for a week)\\n-Started a new project Planner that used firebase,\\n\\n------…'},\n",
       " {'created_at': 'Tue Jan 14 00:17:54 +0000 2020',\n",
       "  'text': 'RT @NoContextVinny: And we return to your regular programming. https://t.co/N9bbwoYtkp'},\n",
       " {'created_at': 'Tue Jan 14 00:17:54 +0000 2020',\n",
       "  'text': 'Current standard of discourse on the net: \"I know nothing I write here will change your mind, because you are alrea… https://t.co/OMa09Z0Gz6'},\n",
       " {'created_at': 'Tue Jan 14 00:17:55 +0000 2020',\n",
       "  'text': 'RT @thegrugq: Alternative take: knowing Haskell will get you a job delivering pizza, but JavaScript will get you a job at the big 5'},\n",
       " {'created_at': 'Tue Jan 14 00:17:56 +0000 2020',\n",
       "  'text': 'RT @neilonsoftware: \"They are typically very experienced, having worked on many different projects under a wide variety of circumstances.\"…'},\n",
       " {'created_at': 'Tue Jan 14 00:17:56 +0000 2020',\n",
       "  'text': 'actual footage of me because i have to TA  programming classes tomorrow for a total of 4 hours'},\n",
       " {'created_at': 'Tue Jan 14 00:18:01 +0000 2020',\n",
       "  'text': 'Take part in the #SPIE Career Summit, our professional development programming at #PhotonicsWest 2020! \\n\\nCheck out… https://t.co/L1ej80GLtq'},\n",
       " {'created_at': 'Tue Jan 14 00:17:58 +0000 2020',\n",
       "  'text': '@Mandoline_Blue Those energies, hard coded into our genetic programming, can (not always) find a twisted way out if… https://t.co/TLAJEnJc6h'},\n",
       " {'created_at': 'Tue Jan 14 00:18:02 +0000 2020',\n",
       "  'text': 'もう火曜日。\\nImperative  programming vs. Declarative :\\n命令型プログラミング vs. 宣言型プログラミング'},\n",
       " {'created_at': 'Tue Jan 14 00:18:02 +0000 2020',\n",
       "  'text': 'Itu csy kalo suatu saat nongol di Java Jazz, gue ga heran'},\n",
       " {'created_at': 'Tue Jan 14 00:18:03 +0000 2020',\n",
       "  'text': 'Medical identity theft can leave you with big bills for procedures, treatment and equipment you never asked for or… https://t.co/hikhwEFoPo'},\n",
       " {'created_at': 'Tue Jan 14 00:18:06 +0000 2020',\n",
       "  'text': '[Feature] Babel plugin: Add import URL version tag https://t.co/uObz0wNfua #github #JavaScript #TypeScript #CSS #HTML'},\n",
       " {'created_at': 'Tue Jan 14 00:18:03 +0000 2020',\n",
       "  'text': 'There are many ways to profit off your health data, which leaves you with a big and sometimes life-threatening mess… https://t.co/nMhkQ793oe'},\n",
       " {'created_at': 'Tue Jan 14 00:18:07 +0000 2020',\n",
       "  'text': 'RT @javascriptflx: 30 Free Resources To Help You Learn JavaScript Fundamentals https://t.co/W1C5eXVUkp  #Javascript'},\n",
       " {'created_at': 'Tue Jan 14 00:18:07 +0000 2020',\n",
       "  'text': \"Sr DevOps Developer - perm/downtown Toronto - Java/Python/Ruby or C req'd - build software to improve build/release… https://t.co/3qmpVgWt9Q\"},\n",
       " {'created_at': 'Tue Jan 14 00:18:17 +0000 2020',\n",
       "  'text': 'Malicious JavaScript package was only active on the npm repository for two weeks. Microsoft spots malicious npm pac… https://t.co/hZHWiiadOh'},\n",
       " {'created_at': 'Tue Jan 14 00:18:19 +0000 2020',\n",
       "  'text': 'RT @SevenHillsUlti: We are submitting bids for YCC this summer! For more details or answers to some questions, check out our website: https…'},\n",
       " {'created_at': 'Tue Jan 14 00:18:21 +0000 2020',\n",
       "  'text': \"RT @juddy_96: Let me put Japan's situation in smash terms. Smash 4 Shulk. Hey he has all this great stuff. Let's give him shit frame data.…\"},\n",
       " {'created_at': 'Tue Jan 14 00:18:22 +0000 2020',\n",
       "  'text': 'RT @BenjySarlin: A realistic scenario right now:\\n\\n-Trump WH asks courts to end protections for pre-existing conditions\\n\\n-Trump re-elected w…'},\n",
       " {'created_at': 'Tue Jan 14 00:18:22 +0000 2020',\n",
       "  'text': \"RT @Brilliance100: We'll give you A's in your classes. Pay us for\\n#essay\\n#homework\\n#assignment\\n#discussion\\n#code Java PHP C#\\n#Programming p…\"},\n",
       " {'created_at': 'Tue Jan 14 00:18:22 +0000 2020',\n",
       "  'text': 'RT @sicsuper: ¡Proteger tus datos personales es muy importante!\\nEncuentra las recomendaciones que Big Data y la #SICSuper te dejamos aquí 👉…'},\n",
       " {'created_at': 'Tue Jan 14 00:18:25 +0000 2020',\n",
       "  'text': 'We back to regular programming boiiiis'},\n",
       " {'created_at': 'Tue Jan 14 00:18:27 +0000 2020',\n",
       "  'text': \"RT @Cawfree: Here's the Boston Housing dataset for training #regression networks in #tensorflow #NeuralNetworks in #javascript.\\n\\nhttps://t.…\"},\n",
       " {'created_at': 'Tue Jan 14 00:18:28 +0000 2020',\n",
       "  'text': 'RT @nytimesworld: “There aren’t that many things that are quintessentially Canadian, but skating is one of them,” said a university profess…'},\n",
       " {'created_at': 'Tue Jan 14 00:18:34 +0000 2020',\n",
       "  'text': 'What to Pay #JavaScript #Developers in 2020 via https://t.co/prqxSCAEJ8 https://t.co/3nNlRg8PQK'},\n",
       " {'created_at': 'Tue Jan 14 00:18:35 +0000 2020',\n",
       "  'text': '@msRachel9 As soon as we have programming news we’ll announce it here 😘'},\n",
       " {'created_at': 'Tue Jan 14 00:18:39 +0000 2020',\n",
       "  'text': \"My father just discovered that Steven Seagal was a real cop. Well he discovered Steven Seagal Law Man.\\n\\nThat's what… https://t.co/B1BMeIi25n\"},\n",
       " {'created_at': 'Tue Jan 14 00:18:42 +0000 2020',\n",
       "  'text': 'RT @RiverVanRain: What to Pay #JavaScript #Developers in 2020 via https://t.co/prqxSCAEJ8 https://t.co/3nNlRg8PQK'},\n",
       " {'created_at': 'Tue Jan 14 00:18:42 +0000 2020',\n",
       "  'text': 'RT @MauraAlwyen: Science has just as many false prophets as religion and American politics does. Data, the Scriptures, and the Constitution…'},\n",
       " {'created_at': 'Tue Jan 14 00:18:49 +0000 2020',\n",
       "  'text': 'RT @MattKresslein: Join us for the SOKY Robot Royale on Feb. 26th @GRRECKY!  EV3 &amp; Sphero Competitions, Drone Programming/Flying, @Scribit_…'},\n",
       " {'created_at': 'Tue Jan 14 00:18:50 +0000 2020',\n",
       "  'text': 'RT @WjgotINrU14Z1fB: Javaで3年くらいやると、他言語の実業務に参加可能になるやつが増えてくる。\\n\\nなんでJavaだとそうなのかはわからないが、お堅い言語であるが故、信用されてる部分があるっぽい。\\n\\n実際のところ、言語転換の際に現場で困った話も聞かない。…'},\n",
       " {'created_at': 'Tue Jan 14 00:18:50 +0000 2020',\n",
       "  'text': 'RT @Gurgling_MrD: Malicious JavaScript package was only active on the npm repository for two weeks. Microsoft spots malicious npm package s…'},\n",
       " {'created_at': 'Tue Jan 14 00:18:52 +0000 2020',\n",
       "  'text': \"RT @JamesFourM: @dark_wisdom_ @b_ofrights @TrickFreee @dcpoll @ninaandtito @3L3V3NTH @CORLEBRA777 Hey bruh. Let's not forget Bob Dole ➡️ Ma…\"},\n",
       " {'created_at': 'Tue Jan 14 00:18:53 +0000 2020',\n",
       "  'text': 'RT @platzi: 📚 Seis Libros para mejorar tu conocimiento de Data Science 👇\\n#NuncaParesDeAprender\\nhttps://t.co/569j3rREx0 https://t.co/69KqUNy…'},\n",
       " {'created_at': 'Tue Jan 14 00:18:53 +0000 2020',\n",
       "  'text': 'Applied for college and university today, mainly computer programming for Colledge and a English major for universi… https://t.co/WhrU7gq7Q9'},\n",
       " {'created_at': 'Tue Jan 14 00:18:58 +0000 2020',\n",
       "  'text': 'RT @JamesFourM: @CORLEBRA777\\n@ninaandtito\\n\\nFounder &amp; pres of Grassroots Targeting worked for Bob &amp; Elizabeth Dole &amp; as  adviser to Reince P…'},\n",
       " {'created_at': 'Tue Jan 14 00:19:00 +0000 2020',\n",
       "  'text': \"RT @sarah_edo: 🎉 If you're interested in learning how to animate on the web with JavaScript, I wrote up a post on how to animate with @gree…\"},\n",
       " {'created_at': 'Tue Jan 14 00:19:02 +0000 2020',\n",
       "  'text': 'RT @RobotMakerGirl: The first part of the “thing” is officially built and tested. Now on to the programming stage! Then the woodworking sta…'},\n",
       " {'created_at': 'Tue Jan 14 00:19:02 +0000 2020',\n",
       "  'text': 'Moderated a data science panel yesterday\\n当我准备总结一个数据科学研讨环节时，问三位嘉宾：假如，您公司现在就开始没有数据，您的业务将会怎样？他们那惊讶的神情，告诉了我们数据对业务发展的重要性… https://t.co/JXnU7igBRD'},\n",
       " {'created_at': 'Tue Jan 14 00:19:06 +0000 2020',\n",
       "  'text': 'Hi, I can do the class for you\\nDM or Email✉ EssayNerd7@gmail.com \\n\\nGuarantees:\\n✴an A+ Grade√√\\n✴Timely Completion ⏱… https://t.co/UBs4lIMgBG'},\n",
       " {'created_at': 'Tue Jan 14 00:19:08 +0000 2020',\n",
       "  'text': 'For some reason remembering languages/tools I’ve developed in I haven’t heard much about in years.\\n#Powerbuilder,… https://t.co/CcYD8Ux1pX'},\n",
       " {'created_at': 'Tue Jan 14 00:19:09 +0000 2020',\n",
       "  'text': 'RT @thegrugq: Alternative take: knowing Haskell will get you a job delivering pizza, but JavaScript will get you a job at the big 5 https:/…'},\n",
       " {'created_at': 'Tue Jan 14 00:19:09 +0000 2020',\n",
       "  'text': 'Gina Carano in a suit.....thats is all, we will now go back to your regularly scheduled programming #thisistheway https://t.co/QIC4xdsuhv'},\n",
       " {'created_at': 'Tue Jan 14 00:19:10 +0000 2020',\n",
       "  'text': 'RT @spring_io: First milestone of Spring Boot 2.3 will be released this Thursday and will GA two weeks before Spring I/O.\\n\\nDon’t miss out a…'},\n",
       " {'created_at': 'Tue Jan 14 00:19:11 +0000 2020',\n",
       "  'text': 'RT @genentech: Heading to #JPM20? Download S3E05 of our #podcast and find out more about the role of big data in #PersonalizedMedicine from…'},\n",
       " {'created_at': 'Tue Jan 14 00:19:12 +0000 2020',\n",
       "  'text': 'おはようございます☀\\n\\n#今日の積み上げ  予定\\n✅#30DAYSトライアル 2nd Day3\\n\\n引き続きJavaScriptの学習です🏃\\u200d♂️\\n\\n通勤往復中にProgateアプリ版→帰宅後パソコン版の流れ最強だったので本日も同じスタイルでいきます💪\\n\\n#駆け出しエンジニア'},\n",
       " {'created_at': 'Tue Jan 14 00:19:12 +0000 2020',\n",
       "  'text': 'RT @PVNCCDSB: As a result of a planned one-day full withdrawal of service by our teachers on Tuesday, Jan. 21, 2020, the Board will be clos…'},\n",
       " {'created_at': 'Tue Jan 14 00:19:15 +0000 2020',\n",
       "  'text': 'Tapos na event so wala na akong ipopost na annoucements and shiz I am back to regular programming welcome to my kal… https://t.co/NGsR2RSEtm'},\n",
       " {'created_at': 'Tue Jan 14 00:19:16 +0000 2020',\n",
       "  'text': 'RT @platzi: 📚 Seis Libros para mejorar tu conocimiento de Data Science 👇\\n#NuncaParesDeAprender\\nhttps://t.co/569j3rREx0 https://t.co/69KqUNy…'},\n",
       " {'created_at': 'Tue Jan 14 00:19:17 +0000 2020',\n",
       "  'text': 'RT @strnr: Eleven tips for working with big data https://t.co/KrdaN4gxSh\\nKeep raw data raw\\nViz\\nRecord workflow\\nUse version ctrl\\nRecord meta…'},\n",
       " {'created_at': 'Tue Jan 14 00:19:17 +0000 2020',\n",
       "  'text': '@AnimalDefenceBZ @DataCassette Please enforce the law against dog and wild boar fighting! Plz sign: https://t.co/n3pdX3hOP8'},\n",
       " {'created_at': 'Tue Jan 14 00:19:20 +0000 2020',\n",
       "  'text': 'Rock it: A Cradle Story — An Arduino-powered Baby Crib Rocker\\n\\n☞ https://t.co/jrrPvUwrGv\\n\\n#arduino #programming https://t.co/niOfINyVkE'},\n",
       " {'created_at': 'Tue Jan 14 00:19:22 +0000 2020',\n",
       "  'text': 'RT @xximbecile: Bullshit. I was born in Madiun, live most of my youth without internet because my family is poor. And I know I read a lot.…'},\n",
       " {'created_at': 'Tue Jan 14 00:19:24 +0000 2020',\n",
       "  'text': 'RT @sethrosen: Just converted to @webflow after years of preaching squarespace. Wow - just wow. \\n\\nI truly see why *this* is called no-code.…'},\n",
       " {'created_at': 'Tue Jan 14 00:19:24 +0000 2020',\n",
       "  'text': \"@SimonJo37129961 @Rectitude20 On the contrary, you're not appealing to the science &amp; data because epidemiological s… https://t.co/sqR3pkPIeR\"},\n",
       " {'created_at': 'Tue Jan 14 00:19:26 +0000 2020',\n",
       "  'text': \"Always the best bang for your buck of any pod out there, thank you guys. Y'all gotta check them out… https://t.co/gwg4EZKx58\"},\n",
       " {'created_at': 'Tue Jan 14 00:19:29 +0000 2020',\n",
       "  'text': 'RT @bass_analytics: An Effective Python Environment: Making Yourself at Home\\n@realpython #Python #programming #coding\\nhttps://t.co/jMkY3xyU…'},\n",
       " {'created_at': 'Tue Jan 14 00:19:30 +0000 2020',\n",
       "  'text': 'RT @thegrugq: Alternative take: knowing Haskell will get you a job delivering pizza, but JavaScript will get you a job at the big 5 https:/…'},\n",
       " {'created_at': 'Tue Jan 14 00:19:31 +0000 2020',\n",
       "  'text': 'Acquista il libro \"Big Data, WebFare e Reddito per tutti. Quaderni per il Reddito n°9\". Sostieni il BIN Italia - BI… https://t.co/R55bbOsxa3'},\n",
       " {'created_at': 'Tue Jan 14 00:19:33 +0000 2020',\n",
       "  'text': 'RT @MajoLedes: ✨Dejo esto por aquí.. \\n\\nHice un apunte de 24 páginas sobre conceptos principales de ReactJS🙈\\n\\nPueden ver el apunte completo…'},\n",
       " {'created_at': 'Tue Jan 14 00:19:33 +0000 2020',\n",
       "  'text': 'RT @iowahawkblog: fun fact: this advanced state-of-the are artificial intelligence powered big data pizza thinkbot system was invented by T…'},\n",
       " {'created_at': 'Tue Jan 14 00:19:35 +0000 2020',\n",
       "  'text': 'RT @javascriptflx: Hermes: A new open source JavaScript engine optimized for mobile apps https://t.co/Zn7Zed8SkV  #Javascript'},\n",
       " {'created_at': 'Tue Jan 14 00:19:40 +0000 2020',\n",
       "  'text': \"RT @parscale: Big data from Toledo:\\n\\n✅ 22,927 Voters Identified\\n\\n✅ 18,210 Voters From Ohio\\n\\n✅ 5,216 Registrants Didn't Vote in 2016\\n\\n✅ 21.9…\"},\n",
       " {'created_at': 'Tue Jan 14 00:19:41 +0000 2020',\n",
       "  'text': 'Big 5 Sporting Goods $BGFV Anticipates Fiscal 2019 Fourth Quarter EPS to Exceed High End of Prior Guidance Range… https://t.co/fCTX0sWhon'},\n",
       " {'created_at': 'Tue Jan 14 00:19:42 +0000 2020',\n",
       "  'text': 'RT @Arthur81288011: @A_Chapman101 @Jack62084141 Clear @HMRCgovuk must NOT be given new powers to automate processes that could cause distre…'},\n",
       " {'created_at': 'Tue Jan 14 00:19:46 +0000 2020',\n",
       "  'text': '@RandallKopchak @OptimistPanda The problem (if you can call it that) was that DS9 was way ahead of its time in term… https://t.co/y2UI7XQjYm'},\n",
       " {'created_at': 'Tue Jan 14 00:19:51 +0000 2020',\n",
       "  'text': 'This thing is only growing. Excited to see what Gatsby will be like even 5 years from now.'},\n",
       " {'created_at': 'Tue Jan 14 00:19:52 +0000 2020',\n",
       "  'text': \"2.  but oh well, it's cool data science!\"},\n",
       " {'created_at': 'Tue Jan 14 00:19:53 +0000 2020',\n",
       "  'text': 'RT @KinarmLab: Kinarm Camp registration is now open!  Come join us June 8-12th in beautiful #ygk for a week of intensive #kinarm programmin…'},\n",
       " {'created_at': 'Tue Jan 14 00:19:56 +0000 2020',\n",
       "  'text': 'RT @ElemTeachersTO: The #TDSB has cut $13 million dollars of French programming and is planning to eliminate Extended French starting next…'},\n",
       " {'created_at': 'Tue Jan 14 00:19:56 +0000 2020',\n",
       "  'text': 'RT @byLilyV: FEATURED #COURSES\\n\\nThe #Data #Science #Course 2019: Complete Data Science Bootcamp\\n\\nBest Seller 144,730 students enrolled\\n\\nCom…'},\n",
       " {'created_at': 'Tue Jan 14 00:20:00 +0000 2020',\n",
       "  'text': 'How to pack #Angular 8 applications on regular war files https://t.co/t1AXyA1wD1 #javascript #typescript #frontend #webdev'},\n",
       " {'created_at': 'Tue Jan 14 00:20:00 +0000 2020',\n",
       "  'text': 'CoStar Group (@TheCoStarGroup) is hiring https://t.co/cWm6u5KE5o #reactjs #angularjs'},\n",
       " {'created_at': 'Tue Jan 14 00:20:02 +0000 2020',\n",
       "  'text': 'RT @NexWebSites: #Programming\\n👇\\nVisual Studio @code Keyboard Board Shortcuts for:\\n \\n👉Windows : PDF🔗: https://t.co/xxPqHUMjS3\\n 👉#Linux : PDF…'},\n",
       " {'created_at': 'Tue Jan 14 00:20:03 +0000 2020',\n",
       "  'text': 'Everyone has his or her own way of analyzing data to find the right answers. This is why self-service in a business… https://t.co/264klNDvA1'},\n",
       " {'created_at': 'Tue Jan 14 00:20:09 +0000 2020',\n",
       "  'text': 'RT @Payara_Fish: JavaFX Strikes Back - Latest #Airhacks podcast from @AdamBien\\nCatching up with Gluons @johanvos, talking about advantages…'},\n",
       " {'created_at': 'Tue Jan 14 00:20:13 +0000 2020',\n",
       "  'text': '32 Tips For Every #WebDeveloper In 2020 #BetterProgramming via https://t.co/Q6JBQhnTTy https://t.co/3hwgAJhmSs'}]"
      ]
     },
     "execution_count": 268,
     "metadata": {},
     "output_type": "execute_result"
    }
   ],
   "source": [
    "dataset = [{\"created_at\": item[\"created_at\"], \"text\": item[\"text\"]} for item in colecao.find()]\n",
    "dataset"
   ]
  },
  {
   "cell_type": "code",
   "execution_count": 279,
   "metadata": {},
   "outputs": [
    {
     "data": {
      "text/html": [
       "<div>\n",
       "<style scoped>\n",
       "    .dataframe tbody tr th:only-of-type {\n",
       "        vertical-align: middle;\n",
       "    }\n",
       "\n",
       "    .dataframe tbody tr th {\n",
       "        vertical-align: top;\n",
       "    }\n",
       "\n",
       "    .dataframe thead th {\n",
       "        text-align: right;\n",
       "    }\n",
       "</style>\n",
       "<table border=\"1\" class=\"dataframe\">\n",
       "  <thead>\n",
       "    <tr style=\"text-align: right;\">\n",
       "      <th></th>\n",
       "      <th>created_at</th>\n",
       "      <th>text</th>\n",
       "    </tr>\n",
       "  </thead>\n",
       "  <tbody>\n",
       "    <tr>\n",
       "      <td>0</td>\n",
       "      <td>Tue Jan 14 00:14:44 +0000 2020</td>\n",
       "      <td>RT @dcumoviepage: #ReleaseTheSnyderCut</td>\n",
       "    </tr>\n",
       "    <tr>\n",
       "      <td>1</td>\n",
       "      <td>Tue Jan 14 00:15:41 +0000 2020</td>\n",
       "      <td>RT @InfluxDB: Discover how a new #fluxlang fea...</td>\n",
       "    </tr>\n",
       "    <tr>\n",
       "      <td>2</td>\n",
       "      <td>Tue Jan 14 00:15:51 +0000 2020</td>\n",
       "      <td>@realDonaldTrump Trump thinks his voters are d...</td>\n",
       "    </tr>\n",
       "    <tr>\n",
       "      <td>3</td>\n",
       "      <td>Tue Jan 14 00:15:54 +0000 2020</td>\n",
       "      <td>RT @SethAbramson: 25/ Joel Zamel, a man close ...</td>\n",
       "    </tr>\n",
       "    <tr>\n",
       "      <td>4</td>\n",
       "      <td>Tue Jan 14 00:16:05 +0000 2020</td>\n",
       "      <td>@Jhonitrejos @JorgeIvanOspina @lunadavid @kevi...</td>\n",
       "    </tr>\n",
       "    <tr>\n",
       "      <td>5</td>\n",
       "      <td>Tue Jan 14 00:16:08 +0000 2020</td>\n",
       "      <td>RT @sicsuper: ¡Proteger tus datos personales e...</td>\n",
       "    </tr>\n",
       "    <tr>\n",
       "      <td>6</td>\n",
       "      <td>Tue Jan 14 00:16:33 +0000 2020</td>\n",
       "      <td>RT @CatalogueBack: We interrupt our regular pr...</td>\n",
       "    </tr>\n",
       "    <tr>\n",
       "      <td>7</td>\n",
       "      <td>Tue Jan 14 00:16:35 +0000 2020</td>\n",
       "      <td>RT @NomadXrp: ⏰  PRICE UPDATE  🚀 \\n\\n⭐️ $XRP $...</td>\n",
       "    </tr>\n",
       "    <tr>\n",
       "      <td>8</td>\n",
       "      <td>Tue Jan 14 00:16:36 +0000 2020</td>\n",
       "      <td>BIG KETS ARE STILL KETS 😻😻😻😻</td>\n",
       "    </tr>\n",
       "    <tr>\n",
       "      <td>9</td>\n",
       "      <td>Tue Jan 14 00:16:38 +0000 2020</td>\n",
       "      <td>[Cheat Sheet] Python Basics For Data Science h...</td>\n",
       "    </tr>\n",
       "    <tr>\n",
       "      <td>10</td>\n",
       "      <td>Tue Jan 14 00:16:39 +0000 2020</td>\n",
       "      <td>RT @Justin_Stolpe: Happy Monday! Learning abou...</td>\n",
       "    </tr>\n",
       "    <tr>\n",
       "      <td>11</td>\n",
       "      <td>Tue Jan 14 00:16:39 +0000 2020</td>\n",
       "      <td>RT @davarcar1: @Jhonitrejos @JorgeIvanOspina @...</td>\n",
       "    </tr>\n",
       "    <tr>\n",
       "      <td>12</td>\n",
       "      <td>Tue Jan 14 00:16:47 +0000 2020</td>\n",
       "      <td>\"They are typically very experienced, having w...</td>\n",
       "    </tr>\n",
       "    <tr>\n",
       "      <td>13</td>\n",
       "      <td>Tue Jan 14 00:16:51 +0000 2020</td>\n",
       "      <td>@iceagereentry @rcsteeb Don’t worry, all is we...</td>\n",
       "    </tr>\n",
       "    <tr>\n",
       "      <td>14</td>\n",
       "      <td>Tue Jan 14 00:16:51 +0000 2020</td>\n",
       "      <td>It \"amazes\" ME how an \"influencer\"  like @Mark...</td>\n",
       "    </tr>\n",
       "    <tr>\n",
       "      <td>15</td>\n",
       "      <td>Tue Jan 14 00:16:54 +0000 2020</td>\n",
       "      <td>RT @neilonsoftware: \"They are typically very e...</td>\n",
       "    </tr>\n",
       "    <tr>\n",
       "      <td>16</td>\n",
       "      <td>Tue Jan 14 00:16:55 +0000 2020</td>\n",
       "      <td>RT @HawkinsTammy: Know #javascript and looking...</td>\n",
       "    </tr>\n",
       "    <tr>\n",
       "      <td>17</td>\n",
       "      <td>Tue Jan 14 00:16:55 +0000 2020</td>\n",
       "      <td>Coffee and code. NodeJs tutorial. Then I will ...</td>\n",
       "    </tr>\n",
       "    <tr>\n",
       "      <td>18</td>\n",
       "      <td>Tue Jan 14 00:17:00 +0000 2020</td>\n",
       "      <td>RT @neilonsoftware: \"They are typically very e...</td>\n",
       "    </tr>\n",
       "    <tr>\n",
       "      <td>19</td>\n",
       "      <td>Tue Jan 14 00:17:01 +0000 2020</td>\n",
       "      <td>📚 Wiley's Professional JavaScript for Web Deve...</td>\n",
       "    </tr>\n",
       "  </tbody>\n",
       "</table>\n",
       "</div>"
      ],
      "text/plain": [
       "                        created_at  \\\n",
       "0   Tue Jan 14 00:14:44 +0000 2020   \n",
       "1   Tue Jan 14 00:15:41 +0000 2020   \n",
       "2   Tue Jan 14 00:15:51 +0000 2020   \n",
       "3   Tue Jan 14 00:15:54 +0000 2020   \n",
       "4   Tue Jan 14 00:16:05 +0000 2020   \n",
       "5   Tue Jan 14 00:16:08 +0000 2020   \n",
       "6   Tue Jan 14 00:16:33 +0000 2020   \n",
       "7   Tue Jan 14 00:16:35 +0000 2020   \n",
       "8   Tue Jan 14 00:16:36 +0000 2020   \n",
       "9   Tue Jan 14 00:16:38 +0000 2020   \n",
       "10  Tue Jan 14 00:16:39 +0000 2020   \n",
       "11  Tue Jan 14 00:16:39 +0000 2020   \n",
       "12  Tue Jan 14 00:16:47 +0000 2020   \n",
       "13  Tue Jan 14 00:16:51 +0000 2020   \n",
       "14  Tue Jan 14 00:16:51 +0000 2020   \n",
       "15  Tue Jan 14 00:16:54 +0000 2020   \n",
       "16  Tue Jan 14 00:16:55 +0000 2020   \n",
       "17  Tue Jan 14 00:16:55 +0000 2020   \n",
       "18  Tue Jan 14 00:17:00 +0000 2020   \n",
       "19  Tue Jan 14 00:17:01 +0000 2020   \n",
       "\n",
       "                                                 text  \n",
       "0              RT @dcumoviepage: #ReleaseTheSnyderCut  \n",
       "1   RT @InfluxDB: Discover how a new #fluxlang fea...  \n",
       "2   @realDonaldTrump Trump thinks his voters are d...  \n",
       "3   RT @SethAbramson: 25/ Joel Zamel, a man close ...  \n",
       "4   @Jhonitrejos @JorgeIvanOspina @lunadavid @kevi...  \n",
       "5   RT @sicsuper: ¡Proteger tus datos personales e...  \n",
       "6   RT @CatalogueBack: We interrupt our regular pr...  \n",
       "7   RT @NomadXrp: ⏰  PRICE UPDATE  🚀 \\n\\n⭐️ $XRP $...  \n",
       "8                        BIG KETS ARE STILL KETS 😻😻😻😻  \n",
       "9   [Cheat Sheet] Python Basics For Data Science h...  \n",
       "10  RT @Justin_Stolpe: Happy Monday! Learning abou...  \n",
       "11  RT @davarcar1: @Jhonitrejos @JorgeIvanOspina @...  \n",
       "12  \"They are typically very experienced, having w...  \n",
       "13  @iceagereentry @rcsteeb Don’t worry, all is we...  \n",
       "14  It \"amazes\" ME how an \"influencer\"  like @Mark...  \n",
       "15  RT @neilonsoftware: \"They are typically very e...  \n",
       "16  RT @HawkinsTammy: Know #javascript and looking...  \n",
       "17  Coffee and code. NodeJs tutorial. Then I will ...  \n",
       "18  RT @neilonsoftware: \"They are typically very e...  \n",
       "19  📚 Wiley's Professional JavaScript for Web Deve...  "
      ]
     },
     "execution_count": 279,
     "metadata": {},
     "output_type": "execute_result"
    }
   ],
   "source": [
    "import pandas as pd\n",
    "\n",
    "df = pd.DataFrame(dataset) \n",
    "df.head(20)"
   ]
  },
  {
   "cell_type": "code",
   "execution_count": 274,
   "metadata": {},
   "outputs": [],
   "source": [
    "from sklearn.feature_extraction.text import CountVectorizer"
   ]
  },
  {
   "cell_type": "code",
   "execution_count": 278,
   "metadata": {},
   "outputs": [],
   "source": [
    "cv = CountVectorizer()\n",
    "count_matrix = cv.fit_transform(df.text)"
   ]
  },
  {
   "cell_type": "code",
   "execution_count": 284,
   "metadata": {},
   "outputs": [],
   "source": [
    "word_count = pd.DataFrame(cv.get_feature_names(), columns=[\"word\"])\n",
    "word_count[\"count\"] = count_matrix.sum(axis = 0).tolist()[0]\n",
    "word_count = word_count.sort_values(\"count\", ascending = False).reset_index(drop = True)"
   ]
  },
  {
   "cell_type": "code",
   "execution_count": 289,
   "metadata": {},
   "outputs": [
    {
     "data": {
      "text/html": [
       "<div>\n",
       "<style scoped>\n",
       "    .dataframe tbody tr th:only-of-type {\n",
       "        vertical-align: middle;\n",
       "    }\n",
       "\n",
       "    .dataframe tbody tr th {\n",
       "        vertical-align: top;\n",
       "    }\n",
       "\n",
       "    .dataframe thead th {\n",
       "        text-align: right;\n",
       "    }\n",
       "</style>\n",
       "<table border=\"1\" class=\"dataframe\">\n",
       "  <thead>\n",
       "    <tr style=\"text-align: right;\">\n",
       "      <th></th>\n",
       "      <th>word</th>\n",
       "      <th>count</th>\n",
       "    </tr>\n",
       "  </thead>\n",
       "  <tbody>\n",
       "    <tr>\n",
       "      <td>0</td>\n",
       "      <td>rt</td>\n",
       "      <td>73</td>\n",
       "    </tr>\n",
       "    <tr>\n",
       "      <td>1</td>\n",
       "      <td>https</td>\n",
       "      <td>71</td>\n",
       "    </tr>\n",
       "    <tr>\n",
       "      <td>2</td>\n",
       "      <td>co</td>\n",
       "      <td>65</td>\n",
       "    </tr>\n",
       "    <tr>\n",
       "      <td>3</td>\n",
       "      <td>the</td>\n",
       "      <td>43</td>\n",
       "    </tr>\n",
       "    <tr>\n",
       "      <td>4</td>\n",
       "      <td>of</td>\n",
       "      <td>39</td>\n",
       "    </tr>\n",
       "    <tr>\n",
       "      <td>5</td>\n",
       "      <td>for</td>\n",
       "      <td>37</td>\n",
       "    </tr>\n",
       "    <tr>\n",
       "      <td>6</td>\n",
       "      <td>to</td>\n",
       "      <td>34</td>\n",
       "    </tr>\n",
       "    <tr>\n",
       "      <td>7</td>\n",
       "      <td>data</td>\n",
       "      <td>29</td>\n",
       "    </tr>\n",
       "    <tr>\n",
       "      <td>8</td>\n",
       "      <td>you</td>\n",
       "      <td>28</td>\n",
       "    </tr>\n",
       "    <tr>\n",
       "      <td>9</td>\n",
       "      <td>and</td>\n",
       "      <td>28</td>\n",
       "    </tr>\n",
       "    <tr>\n",
       "      <td>10</td>\n",
       "      <td>in</td>\n",
       "      <td>26</td>\n",
       "    </tr>\n",
       "    <tr>\n",
       "      <td>11</td>\n",
       "      <td>javascript</td>\n",
       "      <td>23</td>\n",
       "    </tr>\n",
       "    <tr>\n",
       "      <td>12</td>\n",
       "      <td>big</td>\n",
       "      <td>22</td>\n",
       "    </tr>\n",
       "    <tr>\n",
       "      <td>13</td>\n",
       "      <td>programming</td>\n",
       "      <td>21</td>\n",
       "    </tr>\n",
       "    <tr>\n",
       "      <td>14</td>\n",
       "      <td>are</td>\n",
       "      <td>19</td>\n",
       "    </tr>\n",
       "    <tr>\n",
       "      <td>15</td>\n",
       "      <td>will</td>\n",
       "      <td>19</td>\n",
       "    </tr>\n",
       "    <tr>\n",
       "      <td>16</td>\n",
       "      <td>on</td>\n",
       "      <td>17</td>\n",
       "    </tr>\n",
       "    <tr>\n",
       "      <td>17</td>\n",
       "      <td>is</td>\n",
       "      <td>14</td>\n",
       "    </tr>\n",
       "    <tr>\n",
       "      <td>18</td>\n",
       "      <td>science</td>\n",
       "      <td>14</td>\n",
       "    </tr>\n",
       "    <tr>\n",
       "      <td>19</td>\n",
       "      <td>job</td>\n",
       "      <td>14</td>\n",
       "    </tr>\n",
       "    <tr>\n",
       "      <td>20</td>\n",
       "      <td>that</td>\n",
       "      <td>12</td>\n",
       "    </tr>\n",
       "    <tr>\n",
       "      <td>21</td>\n",
       "      <td>get</td>\n",
       "      <td>12</td>\n",
       "    </tr>\n",
       "    <tr>\n",
       "      <td>22</td>\n",
       "      <td>this</td>\n",
       "      <td>11</td>\n",
       "    </tr>\n",
       "    <tr>\n",
       "      <td>23</td>\n",
       "      <td>with</td>\n",
       "      <td>11</td>\n",
       "    </tr>\n",
       "    <tr>\n",
       "      <td>24</td>\n",
       "      <td>we</td>\n",
       "      <td>11</td>\n",
       "    </tr>\n",
       "    <tr>\n",
       "      <td>25</td>\n",
       "      <td>at</td>\n",
       "      <td>10</td>\n",
       "    </tr>\n",
       "    <tr>\n",
       "      <td>26</td>\n",
       "      <td>but</td>\n",
       "      <td>10</td>\n",
       "    </tr>\n",
       "    <tr>\n",
       "      <td>27</td>\n",
       "      <td>was</td>\n",
       "      <td>9</td>\n",
       "    </tr>\n",
       "    <tr>\n",
       "      <td>28</td>\n",
       "      <td>new</td>\n",
       "      <td>9</td>\n",
       "    </tr>\n",
       "    <tr>\n",
       "      <td>29</td>\n",
       "      <td>amp</td>\n",
       "      <td>8</td>\n",
       "    </tr>\n",
       "    <tr>\n",
       "      <td>30</td>\n",
       "      <td>many</td>\n",
       "      <td>8</td>\n",
       "    </tr>\n",
       "    <tr>\n",
       "      <td>31</td>\n",
       "      <td>now</td>\n",
       "      <td>7</td>\n",
       "    </tr>\n",
       "    <tr>\n",
       "      <td>32</td>\n",
       "      <td>not</td>\n",
       "      <td>7</td>\n",
       "    </tr>\n",
       "    <tr>\n",
       "      <td>33</td>\n",
       "      <td>pizza</td>\n",
       "      <td>7</td>\n",
       "    </tr>\n",
       "    <tr>\n",
       "      <td>34</td>\n",
       "      <td>an</td>\n",
       "      <td>7</td>\n",
       "    </tr>\n",
       "    <tr>\n",
       "      <td>35</td>\n",
       "      <td>java</td>\n",
       "      <td>7</td>\n",
       "    </tr>\n",
       "    <tr>\n",
       "      <td>36</td>\n",
       "      <td>take</td>\n",
       "      <td>7</td>\n",
       "    </tr>\n",
       "    <tr>\n",
       "      <td>37</td>\n",
       "      <td>as</td>\n",
       "      <td>7</td>\n",
       "    </tr>\n",
       "    <tr>\n",
       "      <td>38</td>\n",
       "      <td>your</td>\n",
       "      <td>7</td>\n",
       "    </tr>\n",
       "    <tr>\n",
       "      <td>39</td>\n",
       "      <td>out</td>\n",
       "      <td>7</td>\n",
       "    </tr>\n",
       "    <tr>\n",
       "      <td>40</td>\n",
       "      <td>how</td>\n",
       "      <td>6</td>\n",
       "    </tr>\n",
       "    <tr>\n",
       "      <td>41</td>\n",
       "      <td>knowing</td>\n",
       "      <td>6</td>\n",
       "    </tr>\n",
       "    <tr>\n",
       "      <td>42</td>\n",
       "      <td>from</td>\n",
       "      <td>6</td>\n",
       "    </tr>\n",
       "    <tr>\n",
       "      <td>43</td>\n",
       "      <td>what</td>\n",
       "      <td>6</td>\n",
       "    </tr>\n",
       "    <tr>\n",
       "      <td>44</td>\n",
       "      <td>it</td>\n",
       "      <td>6</td>\n",
       "    </tr>\n",
       "    <tr>\n",
       "      <td>45</td>\n",
       "      <td>our</td>\n",
       "      <td>6</td>\n",
       "    </tr>\n",
       "    <tr>\n",
       "      <td>46</td>\n",
       "      <td>can</td>\n",
       "      <td>6</td>\n",
       "    </tr>\n",
       "    <tr>\n",
       "      <td>47</td>\n",
       "      <td>delivering</td>\n",
       "      <td>6</td>\n",
       "    </tr>\n",
       "    <tr>\n",
       "      <td>48</td>\n",
       "      <td>alternative</td>\n",
       "      <td>6</td>\n",
       "    </tr>\n",
       "    <tr>\n",
       "      <td>49</td>\n",
       "      <td>thegrugq</td>\n",
       "      <td>6</td>\n",
       "    </tr>\n",
       "  </tbody>\n",
       "</table>\n",
       "</div>"
      ],
      "text/plain": [
       "           word  count\n",
       "0            rt     73\n",
       "1         https     71\n",
       "2            co     65\n",
       "3           the     43\n",
       "4            of     39\n",
       "5           for     37\n",
       "6            to     34\n",
       "7          data     29\n",
       "8           you     28\n",
       "9           and     28\n",
       "10           in     26\n",
       "11   javascript     23\n",
       "12          big     22\n",
       "13  programming     21\n",
       "14          are     19\n",
       "15         will     19\n",
       "16           on     17\n",
       "17           is     14\n",
       "18      science     14\n",
       "19          job     14\n",
       "20         that     12\n",
       "21          get     12\n",
       "22         this     11\n",
       "23         with     11\n",
       "24           we     11\n",
       "25           at     10\n",
       "26          but     10\n",
       "27          was      9\n",
       "28          new      9\n",
       "29          amp      8\n",
       "30         many      8\n",
       "31          now      7\n",
       "32          not      7\n",
       "33        pizza      7\n",
       "34           an      7\n",
       "35         java      7\n",
       "36         take      7\n",
       "37           as      7\n",
       "38         your      7\n",
       "39          out      7\n",
       "40          how      6\n",
       "41      knowing      6\n",
       "42         from      6\n",
       "43         what      6\n",
       "44           it      6\n",
       "45          our      6\n",
       "46          can      6\n",
       "47   delivering      6\n",
       "48  alternative      6\n",
       "49     thegrugq      6"
      ]
     },
     "execution_count": 289,
     "metadata": {},
     "output_type": "execute_result"
    }
   ],
   "source": [
    "word_count[:50]"
   ]
  }
 ],
 "metadata": {
  "kernelspec": {
   "display_name": "Python 3",
   "language": "python",
   "name": "python3"
  },
  "language_info": {
   "codemirror_mode": {
    "name": "ipython",
    "version": 3
   },
   "file_extension": ".py",
   "mimetype": "text/x-python",
   "name": "python",
   "nbconvert_exporter": "python",
   "pygments_lexer": "ipython3",
   "version": "3.7.4"
  }
 },
 "nbformat": 4,
 "nbformat_minor": 2
}
